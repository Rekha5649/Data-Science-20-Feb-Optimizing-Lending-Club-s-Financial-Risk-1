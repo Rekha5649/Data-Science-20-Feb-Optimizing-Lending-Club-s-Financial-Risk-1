{
  "nbformat": 4,
  "nbformat_minor": 0,
  "metadata": {
    "colab": {
      "name": "manasa_main_project.ipynb",
      "provenance": [],
      "collapsed_sections": [],
      "machine_shape": "hm",
      "include_colab_link": true
    },
    "kernelspec": {
      "name": "python3",
      "display_name": "Python 3"
    }
  },
  "cells": [
    {
      "cell_type": "markdown",
      "metadata": {
        "id": "view-in-github",
        "colab_type": "text"
      },
      "source": [
        "<a href=\"https://colab.research.google.com/github/Technocolabs100/Data-Science-20-Feb-Optimizing-Lending-Club-s-Financial-Risk/blob/main/manasa_main_project.ipynb\" target=\"_parent\"><img src=\"https://colab.research.google.com/assets/colab-badge.svg\" alt=\"Open In Colab\"/></a>"
      ]
    },
    {
      "cell_type": "markdown",
      "metadata": {
        "id": "4cbgwZWWfWpp"
      },
      "source": [
        "# New Section"
      ]
    },
    {
      "cell_type": "code",
      "metadata": {
        "id": "tAb77yZ9fzMG",
        "colab": {
          "base_uri": "https://localhost:8080/"
        },
        "outputId": "ae94346c-58ab-4e4f-992f-ec1598e283cf"
      },
      "source": [
        "from google.colab import drive\r\n",
        "drive.mount('/content/drive')"
      ],
      "execution_count": null,
      "outputs": [
        {
          "output_type": "stream",
          "text": [
            "Mounted at /content/drive\n"
          ],
          "name": "stdout"
        }
      ]
    },
    {
      "cell_type": "code",
      "metadata": {
        "id": "pafL7Li0jyXW"
      },
      "source": [
        "pip install -q keras"
      ],
      "execution_count": 2,
      "outputs": []
    },
    {
      "cell_type": "code",
      "metadata": {
        "id": "EPqPIa2TDBY_"
      },
      "source": [
        "import keras"
      ],
      "execution_count": 3,
      "outputs": []
    },
    {
      "cell_type": "code",
      "metadata": {
        "id": "gGpyDaQ5DDq8"
      },
      "source": [
        "import pandas as pd\r\n",
        "import numpy as np\r\n",
        "import seaborn as sns\r\n",
        "import matplotlib.pyplot as plt\r\n",
        "\r\n",
        "#Filter the unwanted warning\r\n",
        "import warnings\r\n",
        "warnings.simplefilter(\"ignore\")"
      ],
      "execution_count": 13,
      "outputs": []
    },
    {
      "cell_type": "code",
      "metadata": {
        "id": "BliPYSqcDHbV"
      },
      "source": [
        "data_filepath=\"/content/drive/MyDrive/accepted_2007_to_2018Q4.csv.gz\""
      ],
      "execution_count": null,
      "outputs": []
    },
    {
      "cell_type": "code",
      "metadata": {
        "id": "dIAv0TndDKUO"
      },
      "source": [
        "data=pd.read_csv(data_filepath)"
      ],
      "execution_count": null,
      "outputs": []
    },
    {
      "cell_type": "code",
      "metadata": {
        "colab": {
          "base_uri": "https://localhost:8080/",
          "height": 355
        },
        "id": "V8cF9c8DDMx7",
        "outputId": "10dc8bf2-d598-4274-bc0f-4ae06ef1e1cd"
      },
      "source": [
        "data.head()"
      ],
      "execution_count": null,
      "outputs": [
        {
          "output_type": "execute_result",
          "data": {
            "text/html": [
              "<div>\n",
              "<style scoped>\n",
              "    .dataframe tbody tr th:only-of-type {\n",
              "        vertical-align: middle;\n",
              "    }\n",
              "\n",
              "    .dataframe tbody tr th {\n",
              "        vertical-align: top;\n",
              "    }\n",
              "\n",
              "    .dataframe thead th {\n",
              "        text-align: right;\n",
              "    }\n",
              "</style>\n",
              "<table border=\"1\" class=\"dataframe\">\n",
              "  <thead>\n",
              "    <tr style=\"text-align: right;\">\n",
              "      <th></th>\n",
              "      <th>id</th>\n",
              "      <th>member_id</th>\n",
              "      <th>loan_amnt</th>\n",
              "      <th>funded_amnt</th>\n",
              "      <th>funded_amnt_inv</th>\n",
              "      <th>term</th>\n",
              "      <th>int_rate</th>\n",
              "      <th>installment</th>\n",
              "      <th>grade</th>\n",
              "      <th>sub_grade</th>\n",
              "      <th>emp_title</th>\n",
              "      <th>emp_length</th>\n",
              "      <th>home_ownership</th>\n",
              "      <th>annual_inc</th>\n",
              "      <th>verification_status</th>\n",
              "      <th>issue_d</th>\n",
              "      <th>loan_status</th>\n",
              "      <th>pymnt_plan</th>\n",
              "      <th>url</th>\n",
              "      <th>desc</th>\n",
              "      <th>purpose</th>\n",
              "      <th>title</th>\n",
              "      <th>zip_code</th>\n",
              "      <th>addr_state</th>\n",
              "      <th>dti</th>\n",
              "      <th>delinq_2yrs</th>\n",
              "      <th>earliest_cr_line</th>\n",
              "      <th>fico_range_low</th>\n",
              "      <th>fico_range_high</th>\n",
              "      <th>inq_last_6mths</th>\n",
              "      <th>mths_since_last_delinq</th>\n",
              "      <th>mths_since_last_record</th>\n",
              "      <th>open_acc</th>\n",
              "      <th>pub_rec</th>\n",
              "      <th>revol_bal</th>\n",
              "      <th>revol_util</th>\n",
              "      <th>total_acc</th>\n",
              "      <th>initial_list_status</th>\n",
              "      <th>out_prncp</th>\n",
              "      <th>out_prncp_inv</th>\n",
              "      <th>...</th>\n",
              "      <th>tot_hi_cred_lim</th>\n",
              "      <th>total_bal_ex_mort</th>\n",
              "      <th>total_bc_limit</th>\n",
              "      <th>total_il_high_credit_limit</th>\n",
              "      <th>revol_bal_joint</th>\n",
              "      <th>sec_app_fico_range_low</th>\n",
              "      <th>sec_app_fico_range_high</th>\n",
              "      <th>sec_app_earliest_cr_line</th>\n",
              "      <th>sec_app_inq_last_6mths</th>\n",
              "      <th>sec_app_mort_acc</th>\n",
              "      <th>sec_app_open_acc</th>\n",
              "      <th>sec_app_revol_util</th>\n",
              "      <th>sec_app_open_act_il</th>\n",
              "      <th>sec_app_num_rev_accts</th>\n",
              "      <th>sec_app_chargeoff_within_12_mths</th>\n",
              "      <th>sec_app_collections_12_mths_ex_med</th>\n",
              "      <th>sec_app_mths_since_last_major_derog</th>\n",
              "      <th>hardship_flag</th>\n",
              "      <th>hardship_type</th>\n",
              "      <th>hardship_reason</th>\n",
              "      <th>hardship_status</th>\n",
              "      <th>deferral_term</th>\n",
              "      <th>hardship_amount</th>\n",
              "      <th>hardship_start_date</th>\n",
              "      <th>hardship_end_date</th>\n",
              "      <th>payment_plan_start_date</th>\n",
              "      <th>hardship_length</th>\n",
              "      <th>hardship_dpd</th>\n",
              "      <th>hardship_loan_status</th>\n",
              "      <th>orig_projected_additional_accrued_interest</th>\n",
              "      <th>hardship_payoff_balance_amount</th>\n",
              "      <th>hardship_last_payment_amount</th>\n",
              "      <th>disbursement_method</th>\n",
              "      <th>debt_settlement_flag</th>\n",
              "      <th>debt_settlement_flag_date</th>\n",
              "      <th>settlement_status</th>\n",
              "      <th>settlement_date</th>\n",
              "      <th>settlement_amount</th>\n",
              "      <th>settlement_percentage</th>\n",
              "      <th>settlement_term</th>\n",
              "    </tr>\n",
              "  </thead>\n",
              "  <tbody>\n",
              "    <tr>\n",
              "      <th>0</th>\n",
              "      <td>68407277</td>\n",
              "      <td>NaN</td>\n",
              "      <td>3600.0</td>\n",
              "      <td>3600.0</td>\n",
              "      <td>3600.0</td>\n",
              "      <td>36 months</td>\n",
              "      <td>13.99</td>\n",
              "      <td>123.03</td>\n",
              "      <td>C</td>\n",
              "      <td>C4</td>\n",
              "      <td>leadman</td>\n",
              "      <td>10+ years</td>\n",
              "      <td>MORTGAGE</td>\n",
              "      <td>55000.0</td>\n",
              "      <td>Not Verified</td>\n",
              "      <td>Dec-2015</td>\n",
              "      <td>Fully Paid</td>\n",
              "      <td>n</td>\n",
              "      <td>https://lendingclub.com/browse/loanDetail.acti...</td>\n",
              "      <td>NaN</td>\n",
              "      <td>debt_consolidation</td>\n",
              "      <td>Debt consolidation</td>\n",
              "      <td>190xx</td>\n",
              "      <td>PA</td>\n",
              "      <td>5.91</td>\n",
              "      <td>0.0</td>\n",
              "      <td>Aug-2003</td>\n",
              "      <td>675.0</td>\n",
              "      <td>679.0</td>\n",
              "      <td>1.0</td>\n",
              "      <td>30.0</td>\n",
              "      <td>NaN</td>\n",
              "      <td>7.0</td>\n",
              "      <td>0.0</td>\n",
              "      <td>2765.0</td>\n",
              "      <td>29.7</td>\n",
              "      <td>13.0</td>\n",
              "      <td>w</td>\n",
              "      <td>0.00</td>\n",
              "      <td>0.00</td>\n",
              "      <td>...</td>\n",
              "      <td>178050.0</td>\n",
              "      <td>7746.0</td>\n",
              "      <td>2400.0</td>\n",
              "      <td>13734.0</td>\n",
              "      <td>NaN</td>\n",
              "      <td>NaN</td>\n",
              "      <td>NaN</td>\n",
              "      <td>NaN</td>\n",
              "      <td>NaN</td>\n",
              "      <td>NaN</td>\n",
              "      <td>NaN</td>\n",
              "      <td>NaN</td>\n",
              "      <td>NaN</td>\n",
              "      <td>NaN</td>\n",
              "      <td>NaN</td>\n",
              "      <td>NaN</td>\n",
              "      <td>NaN</td>\n",
              "      <td>N</td>\n",
              "      <td>NaN</td>\n",
              "      <td>NaN</td>\n",
              "      <td>NaN</td>\n",
              "      <td>NaN</td>\n",
              "      <td>NaN</td>\n",
              "      <td>NaN</td>\n",
              "      <td>NaN</td>\n",
              "      <td>NaN</td>\n",
              "      <td>NaN</td>\n",
              "      <td>NaN</td>\n",
              "      <td>NaN</td>\n",
              "      <td>NaN</td>\n",
              "      <td>NaN</td>\n",
              "      <td>NaN</td>\n",
              "      <td>Cash</td>\n",
              "      <td>N</td>\n",
              "      <td>NaN</td>\n",
              "      <td>NaN</td>\n",
              "      <td>NaN</td>\n",
              "      <td>NaN</td>\n",
              "      <td>NaN</td>\n",
              "      <td>NaN</td>\n",
              "    </tr>\n",
              "    <tr>\n",
              "      <th>1</th>\n",
              "      <td>68355089</td>\n",
              "      <td>NaN</td>\n",
              "      <td>24700.0</td>\n",
              "      <td>24700.0</td>\n",
              "      <td>24700.0</td>\n",
              "      <td>36 months</td>\n",
              "      <td>11.99</td>\n",
              "      <td>820.28</td>\n",
              "      <td>C</td>\n",
              "      <td>C1</td>\n",
              "      <td>Engineer</td>\n",
              "      <td>10+ years</td>\n",
              "      <td>MORTGAGE</td>\n",
              "      <td>65000.0</td>\n",
              "      <td>Not Verified</td>\n",
              "      <td>Dec-2015</td>\n",
              "      <td>Fully Paid</td>\n",
              "      <td>n</td>\n",
              "      <td>https://lendingclub.com/browse/loanDetail.acti...</td>\n",
              "      <td>NaN</td>\n",
              "      <td>small_business</td>\n",
              "      <td>Business</td>\n",
              "      <td>577xx</td>\n",
              "      <td>SD</td>\n",
              "      <td>16.06</td>\n",
              "      <td>1.0</td>\n",
              "      <td>Dec-1999</td>\n",
              "      <td>715.0</td>\n",
              "      <td>719.0</td>\n",
              "      <td>4.0</td>\n",
              "      <td>6.0</td>\n",
              "      <td>NaN</td>\n",
              "      <td>22.0</td>\n",
              "      <td>0.0</td>\n",
              "      <td>21470.0</td>\n",
              "      <td>19.2</td>\n",
              "      <td>38.0</td>\n",
              "      <td>w</td>\n",
              "      <td>0.00</td>\n",
              "      <td>0.00</td>\n",
              "      <td>...</td>\n",
              "      <td>314017.0</td>\n",
              "      <td>39475.0</td>\n",
              "      <td>79300.0</td>\n",
              "      <td>24667.0</td>\n",
              "      <td>NaN</td>\n",
              "      <td>NaN</td>\n",
              "      <td>NaN</td>\n",
              "      <td>NaN</td>\n",
              "      <td>NaN</td>\n",
              "      <td>NaN</td>\n",
              "      <td>NaN</td>\n",
              "      <td>NaN</td>\n",
              "      <td>NaN</td>\n",
              "      <td>NaN</td>\n",
              "      <td>NaN</td>\n",
              "      <td>NaN</td>\n",
              "      <td>NaN</td>\n",
              "      <td>N</td>\n",
              "      <td>NaN</td>\n",
              "      <td>NaN</td>\n",
              "      <td>NaN</td>\n",
              "      <td>NaN</td>\n",
              "      <td>NaN</td>\n",
              "      <td>NaN</td>\n",
              "      <td>NaN</td>\n",
              "      <td>NaN</td>\n",
              "      <td>NaN</td>\n",
              "      <td>NaN</td>\n",
              "      <td>NaN</td>\n",
              "      <td>NaN</td>\n",
              "      <td>NaN</td>\n",
              "      <td>NaN</td>\n",
              "      <td>Cash</td>\n",
              "      <td>N</td>\n",
              "      <td>NaN</td>\n",
              "      <td>NaN</td>\n",
              "      <td>NaN</td>\n",
              "      <td>NaN</td>\n",
              "      <td>NaN</td>\n",
              "      <td>NaN</td>\n",
              "    </tr>\n",
              "    <tr>\n",
              "      <th>2</th>\n",
              "      <td>68341763</td>\n",
              "      <td>NaN</td>\n",
              "      <td>20000.0</td>\n",
              "      <td>20000.0</td>\n",
              "      <td>20000.0</td>\n",
              "      <td>60 months</td>\n",
              "      <td>10.78</td>\n",
              "      <td>432.66</td>\n",
              "      <td>B</td>\n",
              "      <td>B4</td>\n",
              "      <td>truck driver</td>\n",
              "      <td>10+ years</td>\n",
              "      <td>MORTGAGE</td>\n",
              "      <td>63000.0</td>\n",
              "      <td>Not Verified</td>\n",
              "      <td>Dec-2015</td>\n",
              "      <td>Fully Paid</td>\n",
              "      <td>n</td>\n",
              "      <td>https://lendingclub.com/browse/loanDetail.acti...</td>\n",
              "      <td>NaN</td>\n",
              "      <td>home_improvement</td>\n",
              "      <td>NaN</td>\n",
              "      <td>605xx</td>\n",
              "      <td>IL</td>\n",
              "      <td>10.78</td>\n",
              "      <td>0.0</td>\n",
              "      <td>Aug-2000</td>\n",
              "      <td>695.0</td>\n",
              "      <td>699.0</td>\n",
              "      <td>0.0</td>\n",
              "      <td>NaN</td>\n",
              "      <td>NaN</td>\n",
              "      <td>6.0</td>\n",
              "      <td>0.0</td>\n",
              "      <td>7869.0</td>\n",
              "      <td>56.2</td>\n",
              "      <td>18.0</td>\n",
              "      <td>w</td>\n",
              "      <td>0.00</td>\n",
              "      <td>0.00</td>\n",
              "      <td>...</td>\n",
              "      <td>218418.0</td>\n",
              "      <td>18696.0</td>\n",
              "      <td>6200.0</td>\n",
              "      <td>14877.0</td>\n",
              "      <td>NaN</td>\n",
              "      <td>NaN</td>\n",
              "      <td>NaN</td>\n",
              "      <td>NaN</td>\n",
              "      <td>NaN</td>\n",
              "      <td>NaN</td>\n",
              "      <td>NaN</td>\n",
              "      <td>NaN</td>\n",
              "      <td>NaN</td>\n",
              "      <td>NaN</td>\n",
              "      <td>NaN</td>\n",
              "      <td>NaN</td>\n",
              "      <td>NaN</td>\n",
              "      <td>N</td>\n",
              "      <td>NaN</td>\n",
              "      <td>NaN</td>\n",
              "      <td>NaN</td>\n",
              "      <td>NaN</td>\n",
              "      <td>NaN</td>\n",
              "      <td>NaN</td>\n",
              "      <td>NaN</td>\n",
              "      <td>NaN</td>\n",
              "      <td>NaN</td>\n",
              "      <td>NaN</td>\n",
              "      <td>NaN</td>\n",
              "      <td>NaN</td>\n",
              "      <td>NaN</td>\n",
              "      <td>NaN</td>\n",
              "      <td>Cash</td>\n",
              "      <td>N</td>\n",
              "      <td>NaN</td>\n",
              "      <td>NaN</td>\n",
              "      <td>NaN</td>\n",
              "      <td>NaN</td>\n",
              "      <td>NaN</td>\n",
              "      <td>NaN</td>\n",
              "    </tr>\n",
              "    <tr>\n",
              "      <th>3</th>\n",
              "      <td>66310712</td>\n",
              "      <td>NaN</td>\n",
              "      <td>35000.0</td>\n",
              "      <td>35000.0</td>\n",
              "      <td>35000.0</td>\n",
              "      <td>60 months</td>\n",
              "      <td>14.85</td>\n",
              "      <td>829.90</td>\n",
              "      <td>C</td>\n",
              "      <td>C5</td>\n",
              "      <td>Information Systems Officer</td>\n",
              "      <td>10+ years</td>\n",
              "      <td>MORTGAGE</td>\n",
              "      <td>110000.0</td>\n",
              "      <td>Source Verified</td>\n",
              "      <td>Dec-2015</td>\n",
              "      <td>Current</td>\n",
              "      <td>n</td>\n",
              "      <td>https://lendingclub.com/browse/loanDetail.acti...</td>\n",
              "      <td>NaN</td>\n",
              "      <td>debt_consolidation</td>\n",
              "      <td>Debt consolidation</td>\n",
              "      <td>076xx</td>\n",
              "      <td>NJ</td>\n",
              "      <td>17.06</td>\n",
              "      <td>0.0</td>\n",
              "      <td>Sep-2008</td>\n",
              "      <td>785.0</td>\n",
              "      <td>789.0</td>\n",
              "      <td>0.0</td>\n",
              "      <td>NaN</td>\n",
              "      <td>NaN</td>\n",
              "      <td>13.0</td>\n",
              "      <td>0.0</td>\n",
              "      <td>7802.0</td>\n",
              "      <td>11.6</td>\n",
              "      <td>17.0</td>\n",
              "      <td>w</td>\n",
              "      <td>15897.65</td>\n",
              "      <td>15897.65</td>\n",
              "      <td>...</td>\n",
              "      <td>381215.0</td>\n",
              "      <td>52226.0</td>\n",
              "      <td>62500.0</td>\n",
              "      <td>18000.0</td>\n",
              "      <td>NaN</td>\n",
              "      <td>NaN</td>\n",
              "      <td>NaN</td>\n",
              "      <td>NaN</td>\n",
              "      <td>NaN</td>\n",
              "      <td>NaN</td>\n",
              "      <td>NaN</td>\n",
              "      <td>NaN</td>\n",
              "      <td>NaN</td>\n",
              "      <td>NaN</td>\n",
              "      <td>NaN</td>\n",
              "      <td>NaN</td>\n",
              "      <td>NaN</td>\n",
              "      <td>N</td>\n",
              "      <td>NaN</td>\n",
              "      <td>NaN</td>\n",
              "      <td>NaN</td>\n",
              "      <td>NaN</td>\n",
              "      <td>NaN</td>\n",
              "      <td>NaN</td>\n",
              "      <td>NaN</td>\n",
              "      <td>NaN</td>\n",
              "      <td>NaN</td>\n",
              "      <td>NaN</td>\n",
              "      <td>NaN</td>\n",
              "      <td>NaN</td>\n",
              "      <td>NaN</td>\n",
              "      <td>NaN</td>\n",
              "      <td>Cash</td>\n",
              "      <td>N</td>\n",
              "      <td>NaN</td>\n",
              "      <td>NaN</td>\n",
              "      <td>NaN</td>\n",
              "      <td>NaN</td>\n",
              "      <td>NaN</td>\n",
              "      <td>NaN</td>\n",
              "    </tr>\n",
              "    <tr>\n",
              "      <th>4</th>\n",
              "      <td>68476807</td>\n",
              "      <td>NaN</td>\n",
              "      <td>10400.0</td>\n",
              "      <td>10400.0</td>\n",
              "      <td>10400.0</td>\n",
              "      <td>60 months</td>\n",
              "      <td>22.45</td>\n",
              "      <td>289.91</td>\n",
              "      <td>F</td>\n",
              "      <td>F1</td>\n",
              "      <td>Contract Specialist</td>\n",
              "      <td>3 years</td>\n",
              "      <td>MORTGAGE</td>\n",
              "      <td>104433.0</td>\n",
              "      <td>Source Verified</td>\n",
              "      <td>Dec-2015</td>\n",
              "      <td>Fully Paid</td>\n",
              "      <td>n</td>\n",
              "      <td>https://lendingclub.com/browse/loanDetail.acti...</td>\n",
              "      <td>NaN</td>\n",
              "      <td>major_purchase</td>\n",
              "      <td>Major purchase</td>\n",
              "      <td>174xx</td>\n",
              "      <td>PA</td>\n",
              "      <td>25.37</td>\n",
              "      <td>1.0</td>\n",
              "      <td>Jun-1998</td>\n",
              "      <td>695.0</td>\n",
              "      <td>699.0</td>\n",
              "      <td>3.0</td>\n",
              "      <td>12.0</td>\n",
              "      <td>NaN</td>\n",
              "      <td>12.0</td>\n",
              "      <td>0.0</td>\n",
              "      <td>21929.0</td>\n",
              "      <td>64.5</td>\n",
              "      <td>35.0</td>\n",
              "      <td>w</td>\n",
              "      <td>0.00</td>\n",
              "      <td>0.00</td>\n",
              "      <td>...</td>\n",
              "      <td>439570.0</td>\n",
              "      <td>95768.0</td>\n",
              "      <td>20300.0</td>\n",
              "      <td>88097.0</td>\n",
              "      <td>NaN</td>\n",
              "      <td>NaN</td>\n",
              "      <td>NaN</td>\n",
              "      <td>NaN</td>\n",
              "      <td>NaN</td>\n",
              "      <td>NaN</td>\n",
              "      <td>NaN</td>\n",
              "      <td>NaN</td>\n",
              "      <td>NaN</td>\n",
              "      <td>NaN</td>\n",
              "      <td>NaN</td>\n",
              "      <td>NaN</td>\n",
              "      <td>NaN</td>\n",
              "      <td>N</td>\n",
              "      <td>NaN</td>\n",
              "      <td>NaN</td>\n",
              "      <td>NaN</td>\n",
              "      <td>NaN</td>\n",
              "      <td>NaN</td>\n",
              "      <td>NaN</td>\n",
              "      <td>NaN</td>\n",
              "      <td>NaN</td>\n",
              "      <td>NaN</td>\n",
              "      <td>NaN</td>\n",
              "      <td>NaN</td>\n",
              "      <td>NaN</td>\n",
              "      <td>NaN</td>\n",
              "      <td>NaN</td>\n",
              "      <td>Cash</td>\n",
              "      <td>N</td>\n",
              "      <td>NaN</td>\n",
              "      <td>NaN</td>\n",
              "      <td>NaN</td>\n",
              "      <td>NaN</td>\n",
              "      <td>NaN</td>\n",
              "      <td>NaN</td>\n",
              "    </tr>\n",
              "  </tbody>\n",
              "</table>\n",
              "<p>5 rows × 151 columns</p>\n",
              "</div>"
            ],
            "text/plain": [
              "         id  member_id  ...  settlement_percentage  settlement_term\n",
              "0  68407277        NaN  ...                    NaN              NaN\n",
              "1  68355089        NaN  ...                    NaN              NaN\n",
              "2  68341763        NaN  ...                    NaN              NaN\n",
              "3  66310712        NaN  ...                    NaN              NaN\n",
              "4  68476807        NaN  ...                    NaN              NaN\n",
              "\n",
              "[5 rows x 151 columns]"
            ]
          },
          "metadata": {
            "tags": []
          },
          "execution_count": 7
        }
      ]
    },
    {
      "cell_type": "code",
      "metadata": {
        "colab": {
          "base_uri": "https://localhost:8080/",
          "height": 491
        },
        "id": "kQsIqvEDDl85",
        "outputId": "6bef2b52-5eac-4566-8dc1-767bc946bcf2"
      },
      "source": [
        "data.tail()"
      ],
      "execution_count": null,
      "outputs": [
        {
          "output_type": "execute_result",
          "data": {
            "text/html": [
              "<div>\n",
              "<style scoped>\n",
              "    .dataframe tbody tr th:only-of-type {\n",
              "        vertical-align: middle;\n",
              "    }\n",
              "\n",
              "    .dataframe tbody tr th {\n",
              "        vertical-align: top;\n",
              "    }\n",
              "\n",
              "    .dataframe thead th {\n",
              "        text-align: right;\n",
              "    }\n",
              "</style>\n",
              "<table border=\"1\" class=\"dataframe\">\n",
              "  <thead>\n",
              "    <tr style=\"text-align: right;\">\n",
              "      <th></th>\n",
              "      <th>id</th>\n",
              "      <th>member_id</th>\n",
              "      <th>loan_amnt</th>\n",
              "      <th>funded_amnt</th>\n",
              "      <th>funded_amnt_inv</th>\n",
              "      <th>term</th>\n",
              "      <th>int_rate</th>\n",
              "      <th>installment</th>\n",
              "      <th>grade</th>\n",
              "      <th>sub_grade</th>\n",
              "      <th>emp_title</th>\n",
              "      <th>emp_length</th>\n",
              "      <th>home_ownership</th>\n",
              "      <th>annual_inc</th>\n",
              "      <th>verification_status</th>\n",
              "      <th>issue_d</th>\n",
              "      <th>loan_status</th>\n",
              "      <th>pymnt_plan</th>\n",
              "      <th>url</th>\n",
              "      <th>desc</th>\n",
              "      <th>purpose</th>\n",
              "      <th>title</th>\n",
              "      <th>zip_code</th>\n",
              "      <th>addr_state</th>\n",
              "      <th>dti</th>\n",
              "      <th>delinq_2yrs</th>\n",
              "      <th>earliest_cr_line</th>\n",
              "      <th>fico_range_low</th>\n",
              "      <th>fico_range_high</th>\n",
              "      <th>inq_last_6mths</th>\n",
              "      <th>mths_since_last_delinq</th>\n",
              "      <th>mths_since_last_record</th>\n",
              "      <th>open_acc</th>\n",
              "      <th>pub_rec</th>\n",
              "      <th>revol_bal</th>\n",
              "      <th>revol_util</th>\n",
              "      <th>total_acc</th>\n",
              "      <th>initial_list_status</th>\n",
              "      <th>out_prncp</th>\n",
              "      <th>out_prncp_inv</th>\n",
              "      <th>...</th>\n",
              "      <th>tot_hi_cred_lim</th>\n",
              "      <th>total_bal_ex_mort</th>\n",
              "      <th>total_bc_limit</th>\n",
              "      <th>total_il_high_credit_limit</th>\n",
              "      <th>revol_bal_joint</th>\n",
              "      <th>sec_app_fico_range_low</th>\n",
              "      <th>sec_app_fico_range_high</th>\n",
              "      <th>sec_app_earliest_cr_line</th>\n",
              "      <th>sec_app_inq_last_6mths</th>\n",
              "      <th>sec_app_mort_acc</th>\n",
              "      <th>sec_app_open_acc</th>\n",
              "      <th>sec_app_revol_util</th>\n",
              "      <th>sec_app_open_act_il</th>\n",
              "      <th>sec_app_num_rev_accts</th>\n",
              "      <th>sec_app_chargeoff_within_12_mths</th>\n",
              "      <th>sec_app_collections_12_mths_ex_med</th>\n",
              "      <th>sec_app_mths_since_last_major_derog</th>\n",
              "      <th>hardship_flag</th>\n",
              "      <th>hardship_type</th>\n",
              "      <th>hardship_reason</th>\n",
              "      <th>hardship_status</th>\n",
              "      <th>deferral_term</th>\n",
              "      <th>hardship_amount</th>\n",
              "      <th>hardship_start_date</th>\n",
              "      <th>hardship_end_date</th>\n",
              "      <th>payment_plan_start_date</th>\n",
              "      <th>hardship_length</th>\n",
              "      <th>hardship_dpd</th>\n",
              "      <th>hardship_loan_status</th>\n",
              "      <th>orig_projected_additional_accrued_interest</th>\n",
              "      <th>hardship_payoff_balance_amount</th>\n",
              "      <th>hardship_last_payment_amount</th>\n",
              "      <th>disbursement_method</th>\n",
              "      <th>debt_settlement_flag</th>\n",
              "      <th>debt_settlement_flag_date</th>\n",
              "      <th>settlement_status</th>\n",
              "      <th>settlement_date</th>\n",
              "      <th>settlement_amount</th>\n",
              "      <th>settlement_percentage</th>\n",
              "      <th>settlement_term</th>\n",
              "    </tr>\n",
              "  </thead>\n",
              "  <tbody>\n",
              "    <tr>\n",
              "      <th>2260696</th>\n",
              "      <td>88985880</td>\n",
              "      <td>NaN</td>\n",
              "      <td>40000.0</td>\n",
              "      <td>40000.0</td>\n",
              "      <td>40000.0</td>\n",
              "      <td>60 months</td>\n",
              "      <td>10.49</td>\n",
              "      <td>859.56</td>\n",
              "      <td>B</td>\n",
              "      <td>B3</td>\n",
              "      <td>Vice President</td>\n",
              "      <td>9 years</td>\n",
              "      <td>MORTGAGE</td>\n",
              "      <td>227000.0</td>\n",
              "      <td>Verified</td>\n",
              "      <td>Oct-2016</td>\n",
              "      <td>Current</td>\n",
              "      <td>n</td>\n",
              "      <td>https://lendingclub.com/browse/loanDetail.acti...</td>\n",
              "      <td>NaN</td>\n",
              "      <td>debt_consolidation</td>\n",
              "      <td>NaN</td>\n",
              "      <td>907xx</td>\n",
              "      <td>CA</td>\n",
              "      <td>12.75</td>\n",
              "      <td>7.0</td>\n",
              "      <td>Feb-1995</td>\n",
              "      <td>705.0</td>\n",
              "      <td>709.0</td>\n",
              "      <td>1.0</td>\n",
              "      <td>9.0</td>\n",
              "      <td>NaN</td>\n",
              "      <td>5.0</td>\n",
              "      <td>0.0</td>\n",
              "      <td>8633.0</td>\n",
              "      <td>64.9</td>\n",
              "      <td>37.0</td>\n",
              "      <td>f</td>\n",
              "      <td>23252.59</td>\n",
              "      <td>23252.59</td>\n",
              "      <td>...</td>\n",
              "      <td>55970.0</td>\n",
              "      <td>28398.0</td>\n",
              "      <td>12300.0</td>\n",
              "      <td>42670.0</td>\n",
              "      <td>NaN</td>\n",
              "      <td>NaN</td>\n",
              "      <td>NaN</td>\n",
              "      <td>NaN</td>\n",
              "      <td>NaN</td>\n",
              "      <td>NaN</td>\n",
              "      <td>NaN</td>\n",
              "      <td>NaN</td>\n",
              "      <td>NaN</td>\n",
              "      <td>NaN</td>\n",
              "      <td>NaN</td>\n",
              "      <td>NaN</td>\n",
              "      <td>NaN</td>\n",
              "      <td>N</td>\n",
              "      <td>NaN</td>\n",
              "      <td>NaN</td>\n",
              "      <td>NaN</td>\n",
              "      <td>NaN</td>\n",
              "      <td>NaN</td>\n",
              "      <td>NaN</td>\n",
              "      <td>NaN</td>\n",
              "      <td>NaN</td>\n",
              "      <td>NaN</td>\n",
              "      <td>NaN</td>\n",
              "      <td>NaN</td>\n",
              "      <td>NaN</td>\n",
              "      <td>NaN</td>\n",
              "      <td>NaN</td>\n",
              "      <td>Cash</td>\n",
              "      <td>N</td>\n",
              "      <td>NaN</td>\n",
              "      <td>NaN</td>\n",
              "      <td>NaN</td>\n",
              "      <td>NaN</td>\n",
              "      <td>NaN</td>\n",
              "      <td>NaN</td>\n",
              "    </tr>\n",
              "    <tr>\n",
              "      <th>2260697</th>\n",
              "      <td>88224441</td>\n",
              "      <td>NaN</td>\n",
              "      <td>24000.0</td>\n",
              "      <td>24000.0</td>\n",
              "      <td>24000.0</td>\n",
              "      <td>60 months</td>\n",
              "      <td>14.49</td>\n",
              "      <td>564.56</td>\n",
              "      <td>C</td>\n",
              "      <td>C4</td>\n",
              "      <td>Program Manager</td>\n",
              "      <td>6 years</td>\n",
              "      <td>RENT</td>\n",
              "      <td>110000.0</td>\n",
              "      <td>Not Verified</td>\n",
              "      <td>Oct-2016</td>\n",
              "      <td>Charged Off</td>\n",
              "      <td>n</td>\n",
              "      <td>https://lendingclub.com/browse/loanDetail.acti...</td>\n",
              "      <td>NaN</td>\n",
              "      <td>debt_consolidation</td>\n",
              "      <td>Debt consolidation</td>\n",
              "      <td>334xx</td>\n",
              "      <td>FL</td>\n",
              "      <td>18.30</td>\n",
              "      <td>0.0</td>\n",
              "      <td>Jul-1999</td>\n",
              "      <td>660.0</td>\n",
              "      <td>664.0</td>\n",
              "      <td>0.0</td>\n",
              "      <td>67.0</td>\n",
              "      <td>72.0</td>\n",
              "      <td>10.0</td>\n",
              "      <td>1.0</td>\n",
              "      <td>17641.0</td>\n",
              "      <td>68.1</td>\n",
              "      <td>31.0</td>\n",
              "      <td>f</td>\n",
              "      <td>0.00</td>\n",
              "      <td>0.00</td>\n",
              "      <td>...</td>\n",
              "      <td>84664.0</td>\n",
              "      <td>62426.0</td>\n",
              "      <td>20700.0</td>\n",
              "      <td>58764.0</td>\n",
              "      <td>NaN</td>\n",
              "      <td>NaN</td>\n",
              "      <td>NaN</td>\n",
              "      <td>NaN</td>\n",
              "      <td>NaN</td>\n",
              "      <td>NaN</td>\n",
              "      <td>NaN</td>\n",
              "      <td>NaN</td>\n",
              "      <td>NaN</td>\n",
              "      <td>NaN</td>\n",
              "      <td>NaN</td>\n",
              "      <td>NaN</td>\n",
              "      <td>NaN</td>\n",
              "      <td>N</td>\n",
              "      <td>NaN</td>\n",
              "      <td>NaN</td>\n",
              "      <td>NaN</td>\n",
              "      <td>NaN</td>\n",
              "      <td>NaN</td>\n",
              "      <td>NaN</td>\n",
              "      <td>NaN</td>\n",
              "      <td>NaN</td>\n",
              "      <td>NaN</td>\n",
              "      <td>NaN</td>\n",
              "      <td>NaN</td>\n",
              "      <td>NaN</td>\n",
              "      <td>NaN</td>\n",
              "      <td>NaN</td>\n",
              "      <td>Cash</td>\n",
              "      <td>Y</td>\n",
              "      <td>Mar-2019</td>\n",
              "      <td>ACTIVE</td>\n",
              "      <td>Mar-2019</td>\n",
              "      <td>10000.0</td>\n",
              "      <td>44.82</td>\n",
              "      <td>1.0</td>\n",
              "    </tr>\n",
              "    <tr>\n",
              "      <th>2260698</th>\n",
              "      <td>88215728</td>\n",
              "      <td>NaN</td>\n",
              "      <td>14000.0</td>\n",
              "      <td>14000.0</td>\n",
              "      <td>14000.0</td>\n",
              "      <td>60 months</td>\n",
              "      <td>14.49</td>\n",
              "      <td>329.33</td>\n",
              "      <td>C</td>\n",
              "      <td>C4</td>\n",
              "      <td>Customer Service Technician</td>\n",
              "      <td>10+ years</td>\n",
              "      <td>MORTGAGE</td>\n",
              "      <td>95000.0</td>\n",
              "      <td>Verified</td>\n",
              "      <td>Oct-2016</td>\n",
              "      <td>Current</td>\n",
              "      <td>n</td>\n",
              "      <td>https://lendingclub.com/browse/loanDetail.acti...</td>\n",
              "      <td>NaN</td>\n",
              "      <td>debt_consolidation</td>\n",
              "      <td>NaN</td>\n",
              "      <td>770xx</td>\n",
              "      <td>TX</td>\n",
              "      <td>23.36</td>\n",
              "      <td>0.0</td>\n",
              "      <td>Jun-1996</td>\n",
              "      <td>660.0</td>\n",
              "      <td>664.0</td>\n",
              "      <td>1.0</td>\n",
              "      <td>37.0</td>\n",
              "      <td>NaN</td>\n",
              "      <td>8.0</td>\n",
              "      <td>0.0</td>\n",
              "      <td>7662.0</td>\n",
              "      <td>54.0</td>\n",
              "      <td>22.0</td>\n",
              "      <td>w</td>\n",
              "      <td>8456.12</td>\n",
              "      <td>8456.12</td>\n",
              "      <td>...</td>\n",
              "      <td>163804.0</td>\n",
              "      <td>44215.0</td>\n",
              "      <td>9500.0</td>\n",
              "      <td>34169.0</td>\n",
              "      <td>NaN</td>\n",
              "      <td>NaN</td>\n",
              "      <td>NaN</td>\n",
              "      <td>NaN</td>\n",
              "      <td>NaN</td>\n",
              "      <td>NaN</td>\n",
              "      <td>NaN</td>\n",
              "      <td>NaN</td>\n",
              "      <td>NaN</td>\n",
              "      <td>NaN</td>\n",
              "      <td>NaN</td>\n",
              "      <td>NaN</td>\n",
              "      <td>NaN</td>\n",
              "      <td>N</td>\n",
              "      <td>NaN</td>\n",
              "      <td>NaN</td>\n",
              "      <td>NaN</td>\n",
              "      <td>NaN</td>\n",
              "      <td>NaN</td>\n",
              "      <td>NaN</td>\n",
              "      <td>NaN</td>\n",
              "      <td>NaN</td>\n",
              "      <td>NaN</td>\n",
              "      <td>NaN</td>\n",
              "      <td>NaN</td>\n",
              "      <td>NaN</td>\n",
              "      <td>NaN</td>\n",
              "      <td>NaN</td>\n",
              "      <td>Cash</td>\n",
              "      <td>N</td>\n",
              "      <td>NaN</td>\n",
              "      <td>NaN</td>\n",
              "      <td>NaN</td>\n",
              "      <td>NaN</td>\n",
              "      <td>NaN</td>\n",
              "      <td>NaN</td>\n",
              "    </tr>\n",
              "    <tr>\n",
              "      <th>2260699</th>\n",
              "      <td>Total amount funded in policy code 1: 1465324575</td>\n",
              "      <td>NaN</td>\n",
              "      <td>NaN</td>\n",
              "      <td>NaN</td>\n",
              "      <td>NaN</td>\n",
              "      <td>NaN</td>\n",
              "      <td>NaN</td>\n",
              "      <td>NaN</td>\n",
              "      <td>NaN</td>\n",
              "      <td>NaN</td>\n",
              "      <td>NaN</td>\n",
              "      <td>NaN</td>\n",
              "      <td>NaN</td>\n",
              "      <td>NaN</td>\n",
              "      <td>NaN</td>\n",
              "      <td>NaN</td>\n",
              "      <td>NaN</td>\n",
              "      <td>NaN</td>\n",
              "      <td>NaN</td>\n",
              "      <td>NaN</td>\n",
              "      <td>NaN</td>\n",
              "      <td>NaN</td>\n",
              "      <td>NaN</td>\n",
              "      <td>NaN</td>\n",
              "      <td>NaN</td>\n",
              "      <td>NaN</td>\n",
              "      <td>NaN</td>\n",
              "      <td>NaN</td>\n",
              "      <td>NaN</td>\n",
              "      <td>NaN</td>\n",
              "      <td>NaN</td>\n",
              "      <td>NaN</td>\n",
              "      <td>NaN</td>\n",
              "      <td>NaN</td>\n",
              "      <td>NaN</td>\n",
              "      <td>NaN</td>\n",
              "      <td>NaN</td>\n",
              "      <td>NaN</td>\n",
              "      <td>NaN</td>\n",
              "      <td>NaN</td>\n",
              "      <td>...</td>\n",
              "      <td>NaN</td>\n",
              "      <td>NaN</td>\n",
              "      <td>NaN</td>\n",
              "      <td>NaN</td>\n",
              "      <td>NaN</td>\n",
              "      <td>NaN</td>\n",
              "      <td>NaN</td>\n",
              "      <td>NaN</td>\n",
              "      <td>NaN</td>\n",
              "      <td>NaN</td>\n",
              "      <td>NaN</td>\n",
              "      <td>NaN</td>\n",
              "      <td>NaN</td>\n",
              "      <td>NaN</td>\n",
              "      <td>NaN</td>\n",
              "      <td>NaN</td>\n",
              "      <td>NaN</td>\n",
              "      <td>NaN</td>\n",
              "      <td>NaN</td>\n",
              "      <td>NaN</td>\n",
              "      <td>NaN</td>\n",
              "      <td>NaN</td>\n",
              "      <td>NaN</td>\n",
              "      <td>NaN</td>\n",
              "      <td>NaN</td>\n",
              "      <td>NaN</td>\n",
              "      <td>NaN</td>\n",
              "      <td>NaN</td>\n",
              "      <td>NaN</td>\n",
              "      <td>NaN</td>\n",
              "      <td>NaN</td>\n",
              "      <td>NaN</td>\n",
              "      <td>NaN</td>\n",
              "      <td>NaN</td>\n",
              "      <td>NaN</td>\n",
              "      <td>NaN</td>\n",
              "      <td>NaN</td>\n",
              "      <td>NaN</td>\n",
              "      <td>NaN</td>\n",
              "      <td>NaN</td>\n",
              "    </tr>\n",
              "    <tr>\n",
              "      <th>2260700</th>\n",
              "      <td>Total amount funded in policy code 2: 521953170</td>\n",
              "      <td>NaN</td>\n",
              "      <td>NaN</td>\n",
              "      <td>NaN</td>\n",
              "      <td>NaN</td>\n",
              "      <td>NaN</td>\n",
              "      <td>NaN</td>\n",
              "      <td>NaN</td>\n",
              "      <td>NaN</td>\n",
              "      <td>NaN</td>\n",
              "      <td>NaN</td>\n",
              "      <td>NaN</td>\n",
              "      <td>NaN</td>\n",
              "      <td>NaN</td>\n",
              "      <td>NaN</td>\n",
              "      <td>NaN</td>\n",
              "      <td>NaN</td>\n",
              "      <td>NaN</td>\n",
              "      <td>NaN</td>\n",
              "      <td>NaN</td>\n",
              "      <td>NaN</td>\n",
              "      <td>NaN</td>\n",
              "      <td>NaN</td>\n",
              "      <td>NaN</td>\n",
              "      <td>NaN</td>\n",
              "      <td>NaN</td>\n",
              "      <td>NaN</td>\n",
              "      <td>NaN</td>\n",
              "      <td>NaN</td>\n",
              "      <td>NaN</td>\n",
              "      <td>NaN</td>\n",
              "      <td>NaN</td>\n",
              "      <td>NaN</td>\n",
              "      <td>NaN</td>\n",
              "      <td>NaN</td>\n",
              "      <td>NaN</td>\n",
              "      <td>NaN</td>\n",
              "      <td>NaN</td>\n",
              "      <td>NaN</td>\n",
              "      <td>NaN</td>\n",
              "      <td>...</td>\n",
              "      <td>NaN</td>\n",
              "      <td>NaN</td>\n",
              "      <td>NaN</td>\n",
              "      <td>NaN</td>\n",
              "      <td>NaN</td>\n",
              "      <td>NaN</td>\n",
              "      <td>NaN</td>\n",
              "      <td>NaN</td>\n",
              "      <td>NaN</td>\n",
              "      <td>NaN</td>\n",
              "      <td>NaN</td>\n",
              "      <td>NaN</td>\n",
              "      <td>NaN</td>\n",
              "      <td>NaN</td>\n",
              "      <td>NaN</td>\n",
              "      <td>NaN</td>\n",
              "      <td>NaN</td>\n",
              "      <td>NaN</td>\n",
              "      <td>NaN</td>\n",
              "      <td>NaN</td>\n",
              "      <td>NaN</td>\n",
              "      <td>NaN</td>\n",
              "      <td>NaN</td>\n",
              "      <td>NaN</td>\n",
              "      <td>NaN</td>\n",
              "      <td>NaN</td>\n",
              "      <td>NaN</td>\n",
              "      <td>NaN</td>\n",
              "      <td>NaN</td>\n",
              "      <td>NaN</td>\n",
              "      <td>NaN</td>\n",
              "      <td>NaN</td>\n",
              "      <td>NaN</td>\n",
              "      <td>NaN</td>\n",
              "      <td>NaN</td>\n",
              "      <td>NaN</td>\n",
              "      <td>NaN</td>\n",
              "      <td>NaN</td>\n",
              "      <td>NaN</td>\n",
              "      <td>NaN</td>\n",
              "    </tr>\n",
              "  </tbody>\n",
              "</table>\n",
              "<p>5 rows × 151 columns</p>\n",
              "</div>"
            ],
            "text/plain": [
              "                                                       id  ...  settlement_term\n",
              "2260696                                          88985880  ...              NaN\n",
              "2260697                                          88224441  ...              1.0\n",
              "2260698                                          88215728  ...              NaN\n",
              "2260699  Total amount funded in policy code 1: 1465324575  ...              NaN\n",
              "2260700   Total amount funded in policy code 2: 521953170  ...              NaN\n",
              "\n",
              "[5 rows x 151 columns]"
            ]
          },
          "metadata": {
            "tags": []
          },
          "execution_count": 8
        }
      ]
    },
    {
      "cell_type": "code",
      "metadata": {
        "colab": {
          "base_uri": "https://localhost:8080/"
        },
        "id": "4atvzJqbDoka",
        "outputId": "9aa452ea-76d5-4c1e-852a-321974301b6b"
      },
      "source": [
        "data.shape"
      ],
      "execution_count": null,
      "outputs": [
        {
          "output_type": "execute_result",
          "data": {
            "text/plain": [
              "(2260701, 151)"
            ]
          },
          "metadata": {
            "tags": []
          },
          "execution_count": 9
        }
      ]
    },
    {
      "cell_type": "code",
      "metadata": {
        "colab": {
          "base_uri": "https://localhost:8080/"
        },
        "id": "Fn5zSZkPDsgh",
        "outputId": "4c363a59-a417-40d1-d4c0-545fa8143caf"
      },
      "source": [
        "data.info()"
      ],
      "execution_count": null,
      "outputs": [
        {
          "output_type": "stream",
          "text": [
            "<class 'pandas.core.frame.DataFrame'>\n",
            "RangeIndex: 2260701 entries, 0 to 2260700\n",
            "Columns: 151 entries, id to settlement_term\n",
            "dtypes: float64(113), object(38)\n",
            "memory usage: 2.5+ GB\n"
          ],
          "name": "stdout"
        }
      ]
    },
    {
      "cell_type": "code",
      "metadata": {
        "colab": {
          "base_uri": "https://localhost:8080/"
        },
        "id": "n4VwCYXUDviN",
        "outputId": "d8d1fab0-e8b2-48d7-92a2-80deca1ccbb7"
      },
      "source": [
        "data.info(verbose=True, null_counts=True)"
      ],
      "execution_count": null,
      "outputs": [
        {
          "output_type": "stream",
          "text": [
            "<class 'pandas.core.frame.DataFrame'>\n",
            "RangeIndex: 2260701 entries, 0 to 2260700\n",
            "Data columns (total 151 columns):\n",
            " #   Column                                      Non-Null Count    Dtype  \n",
            "---  ------                                      --------------    -----  \n",
            " 0   id                                          2260701 non-null  object \n",
            " 1   member_id                                   0 non-null        float64\n",
            " 2   loan_amnt                                   2260668 non-null  float64\n",
            " 3   funded_amnt                                 2260668 non-null  float64\n",
            " 4   funded_amnt_inv                             2260668 non-null  float64\n",
            " 5   term                                        2260668 non-null  object \n",
            " 6   int_rate                                    2260668 non-null  float64\n",
            " 7   installment                                 2260668 non-null  float64\n",
            " 8   grade                                       2260668 non-null  object \n",
            " 9   sub_grade                                   2260668 non-null  object \n",
            " 10  emp_title                                   2093699 non-null  object \n",
            " 11  emp_length                                  2113761 non-null  object \n",
            " 12  home_ownership                              2260668 non-null  object \n",
            " 13  annual_inc                                  2260664 non-null  float64\n",
            " 14  verification_status                         2260668 non-null  object \n",
            " 15  issue_d                                     2260668 non-null  object \n",
            " 16  loan_status                                 2260668 non-null  object \n",
            " 17  pymnt_plan                                  2260668 non-null  object \n",
            " 18  url                                         2260668 non-null  object \n",
            " 19  desc                                        126067 non-null   object \n",
            " 20  purpose                                     2260668 non-null  object \n",
            " 21  title                                       2237343 non-null  object \n",
            " 22  zip_code                                    2260667 non-null  object \n",
            " 23  addr_state                                  2260668 non-null  object \n",
            " 24  dti                                         2258957 non-null  float64\n",
            " 25  delinq_2yrs                                 2260639 non-null  float64\n",
            " 26  earliest_cr_line                            2260639 non-null  object \n",
            " 27  fico_range_low                              2260668 non-null  float64\n",
            " 28  fico_range_high                             2260668 non-null  float64\n",
            " 29  inq_last_6mths                              2260638 non-null  float64\n",
            " 30  mths_since_last_delinq                      1102166 non-null  float64\n",
            " 31  mths_since_last_record                      359156 non-null   float64\n",
            " 32  open_acc                                    2260639 non-null  float64\n",
            " 33  pub_rec                                     2260639 non-null  float64\n",
            " 34  revol_bal                                   2260668 non-null  float64\n",
            " 35  revol_util                                  2258866 non-null  float64\n",
            " 36  total_acc                                   2260639 non-null  float64\n",
            " 37  initial_list_status                         2260668 non-null  object \n",
            " 38  out_prncp                                   2260668 non-null  float64\n",
            " 39  out_prncp_inv                               2260668 non-null  float64\n",
            " 40  total_pymnt                                 2260668 non-null  float64\n",
            " 41  total_pymnt_inv                             2260668 non-null  float64\n",
            " 42  total_rec_prncp                             2260668 non-null  float64\n",
            " 43  total_rec_int                               2260668 non-null  float64\n",
            " 44  total_rec_late_fee                          2260668 non-null  float64\n",
            " 45  recoveries                                  2260668 non-null  float64\n",
            " 46  collection_recovery_fee                     2260668 non-null  float64\n",
            " 47  last_pymnt_d                                2258241 non-null  object \n",
            " 48  last_pymnt_amnt                             2260668 non-null  float64\n",
            " 49  next_pymnt_d                                915358 non-null   object \n",
            " 50  last_credit_pull_d                          2260596 non-null  object \n",
            " 51  last_fico_range_high                        2260668 non-null  float64\n",
            " 52  last_fico_range_low                         2260668 non-null  float64\n",
            " 53  collections_12_mths_ex_med                  2260523 non-null  float64\n",
            " 54  mths_since_last_major_derog                 580775 non-null   float64\n",
            " 55  policy_code                                 2260668 non-null  float64\n",
            " 56  application_type                            2260668 non-null  object \n",
            " 57  annual_inc_joint                            120710 non-null   float64\n",
            " 58  dti_joint                                   120706 non-null   float64\n",
            " 59  verification_status_joint                   115730 non-null   object \n",
            " 60  acc_now_delinq                              2260639 non-null  float64\n",
            " 61  tot_coll_amt                                2190392 non-null  float64\n",
            " 62  tot_cur_bal                                 2190392 non-null  float64\n",
            " 63  open_acc_6m                                 1394538 non-null  float64\n",
            " 64  open_act_il                                 1394539 non-null  float64\n",
            " 65  open_il_12m                                 1394539 non-null  float64\n",
            " 66  open_il_24m                                 1394539 non-null  float64\n",
            " 67  mths_since_rcnt_il                          1350744 non-null  float64\n",
            " 68  total_bal_il                                1394539 non-null  float64\n",
            " 69  il_util                                     1191818 non-null  float64\n",
            " 70  open_rv_12m                                 1394539 non-null  float64\n",
            " 71  open_rv_24m                                 1394539 non-null  float64\n",
            " 72  max_bal_bc                                  1394539 non-null  float64\n",
            " 73  all_util                                    1394320 non-null  float64\n",
            " 74  total_rev_hi_lim                            2190392 non-null  float64\n",
            " 75  inq_fi                                      1394539 non-null  float64\n",
            " 76  total_cu_tl                                 1394538 non-null  float64\n",
            " 77  inq_last_12m                                1394538 non-null  float64\n",
            " 78  acc_open_past_24mths                        2210638 non-null  float64\n",
            " 79  avg_cur_bal                                 2190322 non-null  float64\n",
            " 80  bc_open_to_buy                              2185733 non-null  float64\n",
            " 81  bc_util                                     2184597 non-null  float64\n",
            " 82  chargeoff_within_12_mths                    2260523 non-null  float64\n",
            " 83  delinq_amnt                                 2260639 non-null  float64\n",
            " 84  mo_sin_old_il_acct                          2121597 non-null  float64\n",
            " 85  mo_sin_old_rev_tl_op                        2190391 non-null  float64\n",
            " 86  mo_sin_rcnt_rev_tl_op                       2190391 non-null  float64\n",
            " 87  mo_sin_rcnt_tl                              2190392 non-null  float64\n",
            " 88  mort_acc                                    2210638 non-null  float64\n",
            " 89  mths_since_recent_bc                        2187256 non-null  float64\n",
            " 90  mths_since_recent_bc_dlq                    519701 non-null   float64\n",
            " 91  mths_since_recent_inq                       1965233 non-null  float64\n",
            " 92  mths_since_recent_revol_delinq              740359 non-null   float64\n",
            " 93  num_accts_ever_120_pd                       2190392 non-null  float64\n",
            " 94  num_actv_bc_tl                              2190392 non-null  float64\n",
            " 95  num_actv_rev_tl                             2190392 non-null  float64\n",
            " 96  num_bc_sats                                 2202078 non-null  float64\n",
            " 97  num_bc_tl                                   2190392 non-null  float64\n",
            " 98  num_il_tl                                   2190392 non-null  float64\n",
            " 99  num_op_rev_tl                               2190392 non-null  float64\n",
            " 100 num_rev_accts                               2190391 non-null  float64\n",
            " 101 num_rev_tl_bal_gt_0                         2190392 non-null  float64\n",
            " 102 num_sats                                    2202078 non-null  float64\n",
            " 103 num_tl_120dpd_2m                            2107011 non-null  float64\n",
            " 104 num_tl_30dpd                                2190392 non-null  float64\n",
            " 105 num_tl_90g_dpd_24m                          2190392 non-null  float64\n",
            " 106 num_tl_op_past_12m                          2190392 non-null  float64\n",
            " 107 pct_tl_nvr_dlq                              2190237 non-null  float64\n",
            " 108 percent_bc_gt_75                            2185289 non-null  float64\n",
            " 109 pub_rec_bankruptcies                        2259303 non-null  float64\n",
            " 110 tax_liens                                   2260563 non-null  float64\n",
            " 111 tot_hi_cred_lim                             2190392 non-null  float64\n",
            " 112 total_bal_ex_mort                           2210638 non-null  float64\n",
            " 113 total_bc_limit                              2210638 non-null  float64\n",
            " 114 total_il_high_credit_limit                  2190392 non-null  float64\n",
            " 115 revol_bal_joint                             108020 non-null   float64\n",
            " 116 sec_app_fico_range_low                      108021 non-null   float64\n",
            " 117 sec_app_fico_range_high                     108021 non-null   float64\n",
            " 118 sec_app_earliest_cr_line                    108021 non-null   object \n",
            " 119 sec_app_inq_last_6mths                      108021 non-null   float64\n",
            " 120 sec_app_mort_acc                            108021 non-null   float64\n",
            " 121 sec_app_open_acc                            108021 non-null   float64\n",
            " 122 sec_app_revol_util                          106184 non-null   float64\n",
            " 123 sec_app_open_act_il                         108021 non-null   float64\n",
            " 124 sec_app_num_rev_accts                       108021 non-null   float64\n",
            " 125 sec_app_chargeoff_within_12_mths            108021 non-null   float64\n",
            " 126 sec_app_collections_12_mths_ex_med          108021 non-null   float64\n",
            " 127 sec_app_mths_since_last_major_derog         35942 non-null    float64\n",
            " 128 hardship_flag                               2260668 non-null  object \n",
            " 129 hardship_type                               10917 non-null    object \n",
            " 130 hardship_reason                             10917 non-null    object \n",
            " 131 hardship_status                             10917 non-null    object \n",
            " 132 deferral_term                               10917 non-null    float64\n",
            " 133 hardship_amount                             10917 non-null    float64\n",
            " 134 hardship_start_date                         10917 non-null    object \n",
            " 135 hardship_end_date                           10917 non-null    object \n",
            " 136 payment_plan_start_date                     10917 non-null    object \n",
            " 137 hardship_length                             10917 non-null    float64\n",
            " 138 hardship_dpd                                10917 non-null    float64\n",
            " 139 hardship_loan_status                        10917 non-null    object \n",
            " 140 orig_projected_additional_accrued_interest  8651 non-null     float64\n",
            " 141 hardship_payoff_balance_amount              10917 non-null    float64\n",
            " 142 hardship_last_payment_amount                10917 non-null    float64\n",
            " 143 disbursement_method                         2260668 non-null  object \n",
            " 144 debt_settlement_flag                        2260668 non-null  object \n",
            " 145 debt_settlement_flag_date                   34246 non-null    object \n",
            " 146 settlement_status                           34246 non-null    object \n",
            " 147 settlement_date                             34246 non-null    object \n",
            " 148 settlement_amount                           34246 non-null    float64\n",
            " 149 settlement_percentage                       34246 non-null    float64\n",
            " 150 settlement_term                             34246 non-null    float64\n",
            "dtypes: float64(113), object(38)\n",
            "memory usage: 2.5+ GB\n"
          ],
          "name": "stdout"
        }
      ]
    },
    {
      "cell_type": "code",
      "metadata": {
        "colab": {
          "base_uri": "https://localhost:8080/",
          "height": 346
        },
        "id": "kN4ook-1Dyaq",
        "outputId": "8d32dc11-127d-4d76-e877-3201587bb428"
      },
      "source": [
        "data.describe()"
      ],
      "execution_count": null,
      "outputs": [
        {
          "output_type": "execute_result",
          "data": {
            "text/html": [
              "<div>\n",
              "<style scoped>\n",
              "    .dataframe tbody tr th:only-of-type {\n",
              "        vertical-align: middle;\n",
              "    }\n",
              "\n",
              "    .dataframe tbody tr th {\n",
              "        vertical-align: top;\n",
              "    }\n",
              "\n",
              "    .dataframe thead th {\n",
              "        text-align: right;\n",
              "    }\n",
              "</style>\n",
              "<table border=\"1\" class=\"dataframe\">\n",
              "  <thead>\n",
              "    <tr style=\"text-align: right;\">\n",
              "      <th></th>\n",
              "      <th>member_id</th>\n",
              "      <th>loan_amnt</th>\n",
              "      <th>funded_amnt</th>\n",
              "      <th>funded_amnt_inv</th>\n",
              "      <th>int_rate</th>\n",
              "      <th>installment</th>\n",
              "      <th>annual_inc</th>\n",
              "      <th>dti</th>\n",
              "      <th>delinq_2yrs</th>\n",
              "      <th>fico_range_low</th>\n",
              "      <th>fico_range_high</th>\n",
              "      <th>inq_last_6mths</th>\n",
              "      <th>mths_since_last_delinq</th>\n",
              "      <th>mths_since_last_record</th>\n",
              "      <th>open_acc</th>\n",
              "      <th>pub_rec</th>\n",
              "      <th>revol_bal</th>\n",
              "      <th>revol_util</th>\n",
              "      <th>total_acc</th>\n",
              "      <th>out_prncp</th>\n",
              "      <th>out_prncp_inv</th>\n",
              "      <th>total_pymnt</th>\n",
              "      <th>total_pymnt_inv</th>\n",
              "      <th>total_rec_prncp</th>\n",
              "      <th>total_rec_int</th>\n",
              "      <th>total_rec_late_fee</th>\n",
              "      <th>recoveries</th>\n",
              "      <th>collection_recovery_fee</th>\n",
              "      <th>last_pymnt_amnt</th>\n",
              "      <th>last_fico_range_high</th>\n",
              "      <th>last_fico_range_low</th>\n",
              "      <th>collections_12_mths_ex_med</th>\n",
              "      <th>mths_since_last_major_derog</th>\n",
              "      <th>policy_code</th>\n",
              "      <th>annual_inc_joint</th>\n",
              "      <th>dti_joint</th>\n",
              "      <th>acc_now_delinq</th>\n",
              "      <th>tot_coll_amt</th>\n",
              "      <th>tot_cur_bal</th>\n",
              "      <th>open_acc_6m</th>\n",
              "      <th>...</th>\n",
              "      <th>num_bc_tl</th>\n",
              "      <th>num_il_tl</th>\n",
              "      <th>num_op_rev_tl</th>\n",
              "      <th>num_rev_accts</th>\n",
              "      <th>num_rev_tl_bal_gt_0</th>\n",
              "      <th>num_sats</th>\n",
              "      <th>num_tl_120dpd_2m</th>\n",
              "      <th>num_tl_30dpd</th>\n",
              "      <th>num_tl_90g_dpd_24m</th>\n",
              "      <th>num_tl_op_past_12m</th>\n",
              "      <th>pct_tl_nvr_dlq</th>\n",
              "      <th>percent_bc_gt_75</th>\n",
              "      <th>pub_rec_bankruptcies</th>\n",
              "      <th>tax_liens</th>\n",
              "      <th>tot_hi_cred_lim</th>\n",
              "      <th>total_bal_ex_mort</th>\n",
              "      <th>total_bc_limit</th>\n",
              "      <th>total_il_high_credit_limit</th>\n",
              "      <th>revol_bal_joint</th>\n",
              "      <th>sec_app_fico_range_low</th>\n",
              "      <th>sec_app_fico_range_high</th>\n",
              "      <th>sec_app_inq_last_6mths</th>\n",
              "      <th>sec_app_mort_acc</th>\n",
              "      <th>sec_app_open_acc</th>\n",
              "      <th>sec_app_revol_util</th>\n",
              "      <th>sec_app_open_act_il</th>\n",
              "      <th>sec_app_num_rev_accts</th>\n",
              "      <th>sec_app_chargeoff_within_12_mths</th>\n",
              "      <th>sec_app_collections_12_mths_ex_med</th>\n",
              "      <th>sec_app_mths_since_last_major_derog</th>\n",
              "      <th>deferral_term</th>\n",
              "      <th>hardship_amount</th>\n",
              "      <th>hardship_length</th>\n",
              "      <th>hardship_dpd</th>\n",
              "      <th>orig_projected_additional_accrued_interest</th>\n",
              "      <th>hardship_payoff_balance_amount</th>\n",
              "      <th>hardship_last_payment_amount</th>\n",
              "      <th>settlement_amount</th>\n",
              "      <th>settlement_percentage</th>\n",
              "      <th>settlement_term</th>\n",
              "    </tr>\n",
              "  </thead>\n",
              "  <tbody>\n",
              "    <tr>\n",
              "      <th>count</th>\n",
              "      <td>0.0</td>\n",
              "      <td>2.260668e+06</td>\n",
              "      <td>2.260668e+06</td>\n",
              "      <td>2.260668e+06</td>\n",
              "      <td>2.260668e+06</td>\n",
              "      <td>2.260668e+06</td>\n",
              "      <td>2.260664e+06</td>\n",
              "      <td>2.258957e+06</td>\n",
              "      <td>2.260639e+06</td>\n",
              "      <td>2.260668e+06</td>\n",
              "      <td>2.260668e+06</td>\n",
              "      <td>2.260638e+06</td>\n",
              "      <td>1.102166e+06</td>\n",
              "      <td>359156.000000</td>\n",
              "      <td>2.260639e+06</td>\n",
              "      <td>2.260639e+06</td>\n",
              "      <td>2.260668e+06</td>\n",
              "      <td>2.258866e+06</td>\n",
              "      <td>2.260639e+06</td>\n",
              "      <td>2.260668e+06</td>\n",
              "      <td>2.260668e+06</td>\n",
              "      <td>2.260668e+06</td>\n",
              "      <td>2.260668e+06</td>\n",
              "      <td>2.260668e+06</td>\n",
              "      <td>2.260668e+06</td>\n",
              "      <td>2.260668e+06</td>\n",
              "      <td>2.260668e+06</td>\n",
              "      <td>2.260668e+06</td>\n",
              "      <td>2.260668e+06</td>\n",
              "      <td>2.260668e+06</td>\n",
              "      <td>2.260668e+06</td>\n",
              "      <td>2.260523e+06</td>\n",
              "      <td>580775.000000</td>\n",
              "      <td>2260668.0</td>\n",
              "      <td>1.207100e+05</td>\n",
              "      <td>120706.000000</td>\n",
              "      <td>2.260639e+06</td>\n",
              "      <td>2.190392e+06</td>\n",
              "      <td>2.190392e+06</td>\n",
              "      <td>1.394538e+06</td>\n",
              "      <td>...</td>\n",
              "      <td>2.190392e+06</td>\n",
              "      <td>2.190392e+06</td>\n",
              "      <td>2.190392e+06</td>\n",
              "      <td>2.190391e+06</td>\n",
              "      <td>2.190392e+06</td>\n",
              "      <td>2.202078e+06</td>\n",
              "      <td>2.107011e+06</td>\n",
              "      <td>2.190392e+06</td>\n",
              "      <td>2.190392e+06</td>\n",
              "      <td>2.190392e+06</td>\n",
              "      <td>2.190237e+06</td>\n",
              "      <td>2.185289e+06</td>\n",
              "      <td>2.259303e+06</td>\n",
              "      <td>2.260563e+06</td>\n",
              "      <td>2.190392e+06</td>\n",
              "      <td>2.210638e+06</td>\n",
              "      <td>2.210638e+06</td>\n",
              "      <td>2.190392e+06</td>\n",
              "      <td>1.080200e+05</td>\n",
              "      <td>108021.000000</td>\n",
              "      <td>108021.000000</td>\n",
              "      <td>108021.000000</td>\n",
              "      <td>108021.000000</td>\n",
              "      <td>108021.000000</td>\n",
              "      <td>106184.000000</td>\n",
              "      <td>108021.000000</td>\n",
              "      <td>108021.000000</td>\n",
              "      <td>108021.000000</td>\n",
              "      <td>108021.000000</td>\n",
              "      <td>35942.000000</td>\n",
              "      <td>10917.0</td>\n",
              "      <td>10917.000000</td>\n",
              "      <td>10917.0</td>\n",
              "      <td>10917.000000</td>\n",
              "      <td>8651.000000</td>\n",
              "      <td>10917.000000</td>\n",
              "      <td>10917.000000</td>\n",
              "      <td>34246.000000</td>\n",
              "      <td>34246.000000</td>\n",
              "      <td>34246.000000</td>\n",
              "    </tr>\n",
              "    <tr>\n",
              "      <th>mean</th>\n",
              "      <td>NaN</td>\n",
              "      <td>1.504693e+04</td>\n",
              "      <td>1.504166e+04</td>\n",
              "      <td>1.502344e+04</td>\n",
              "      <td>1.309283e+01</td>\n",
              "      <td>4.458068e+02</td>\n",
              "      <td>7.799243e+04</td>\n",
              "      <td>1.882420e+01</td>\n",
              "      <td>3.068792e-01</td>\n",
              "      <td>6.985882e+02</td>\n",
              "      <td>7.025884e+02</td>\n",
              "      <td>5.768354e-01</td>\n",
              "      <td>3.454092e+01</td>\n",
              "      <td>72.312842</td>\n",
              "      <td>1.161240e+01</td>\n",
              "      <td>1.975278e-01</td>\n",
              "      <td>1.665846e+04</td>\n",
              "      <td>5.033770e+01</td>\n",
              "      <td>2.416255e+01</td>\n",
              "      <td>4.206891e+03</td>\n",
              "      <td>4.205965e+03</td>\n",
              "      <td>1.208256e+04</td>\n",
              "      <td>1.206439e+04</td>\n",
              "      <td>9.505772e+03</td>\n",
              "      <td>2.431388e+03</td>\n",
              "      <td>1.518453e+00</td>\n",
              "      <td>1.438791e+02</td>\n",
              "      <td>2.398257e+01</td>\n",
              "      <td>3.429346e+03</td>\n",
              "      <td>6.876610e+02</td>\n",
              "      <td>6.755397e+02</td>\n",
              "      <td>1.814580e-02</td>\n",
              "      <td>44.164220</td>\n",
              "      <td>1.0</td>\n",
              "      <td>1.236246e+05</td>\n",
              "      <td>19.251817</td>\n",
              "      <td>4.147942e-03</td>\n",
              "      <td>2.327317e+02</td>\n",
              "      <td>1.424922e+05</td>\n",
              "      <td>9.344199e-01</td>\n",
              "      <td>...</td>\n",
              "      <td>7.726402e+00</td>\n",
              "      <td>8.413439e+00</td>\n",
              "      <td>8.246523e+00</td>\n",
              "      <td>1.400463e+01</td>\n",
              "      <td>5.577951e+00</td>\n",
              "      <td>1.162813e+01</td>\n",
              "      <td>6.373958e-04</td>\n",
              "      <td>2.813652e-03</td>\n",
              "      <td>8.293767e-02</td>\n",
              "      <td>2.076755e+00</td>\n",
              "      <td>9.411458e+01</td>\n",
              "      <td>4.243513e+01</td>\n",
              "      <td>1.281935e-01</td>\n",
              "      <td>4.677109e-02</td>\n",
              "      <td>1.782428e+05</td>\n",
              "      <td>5.102294e+04</td>\n",
              "      <td>2.319377e+04</td>\n",
              "      <td>4.373201e+04</td>\n",
              "      <td>3.361728e+04</td>\n",
              "      <td>669.755603</td>\n",
              "      <td>673.755631</td>\n",
              "      <td>0.633256</td>\n",
              "      <td>1.538997</td>\n",
              "      <td>11.469455</td>\n",
              "      <td>58.169101</td>\n",
              "      <td>3.010554</td>\n",
              "      <td>12.533072</td>\n",
              "      <td>0.046352</td>\n",
              "      <td>0.077568</td>\n",
              "      <td>36.937928</td>\n",
              "      <td>3.0</td>\n",
              "      <td>155.045981</td>\n",
              "      <td>3.0</td>\n",
              "      <td>13.743886</td>\n",
              "      <td>454.798089</td>\n",
              "      <td>11636.883942</td>\n",
              "      <td>193.994321</td>\n",
              "      <td>5010.664267</td>\n",
              "      <td>47.780365</td>\n",
              "      <td>13.191322</td>\n",
              "    </tr>\n",
              "    <tr>\n",
              "      <th>std</th>\n",
              "      <td>NaN</td>\n",
              "      <td>9.190245e+03</td>\n",
              "      <td>9.188413e+03</td>\n",
              "      <td>9.192332e+03</td>\n",
              "      <td>4.832138e+00</td>\n",
              "      <td>2.671735e+02</td>\n",
              "      <td>1.126962e+05</td>\n",
              "      <td>1.418333e+01</td>\n",
              "      <td>8.672303e-01</td>\n",
              "      <td>3.301038e+01</td>\n",
              "      <td>3.301124e+01</td>\n",
              "      <td>8.859632e-01</td>\n",
              "      <td>2.190047e+01</td>\n",
              "      <td>26.464094</td>\n",
              "      <td>5.640861e+00</td>\n",
              "      <td>5.705150e-01</td>\n",
              "      <td>2.294831e+04</td>\n",
              "      <td>2.471307e+01</td>\n",
              "      <td>1.198753e+01</td>\n",
              "      <td>7.343239e+03</td>\n",
              "      <td>7.342333e+03</td>\n",
              "      <td>9.901383e+03</td>\n",
              "      <td>9.896992e+03</td>\n",
              "      <td>8.321852e+03</td>\n",
              "      <td>2.679738e+03</td>\n",
              "      <td>1.184159e+01</td>\n",
              "      <td>7.481640e+02</td>\n",
              "      <td>1.312256e+02</td>\n",
              "      <td>6.018248e+03</td>\n",
              "      <td>7.297044e+01</td>\n",
              "      <td>1.110976e+02</td>\n",
              "      <td>1.508131e-01</td>\n",
              "      <td>21.533121</td>\n",
              "      <td>0.0</td>\n",
              "      <td>7.416135e+04</td>\n",
              "      <td>7.822086</td>\n",
              "      <td>6.961656e-02</td>\n",
              "      <td>8.518462e+03</td>\n",
              "      <td>1.606926e+05</td>\n",
              "      <td>1.140700e+00</td>\n",
              "      <td>...</td>\n",
              "      <td>4.701430e+00</td>\n",
              "      <td>7.359114e+00</td>\n",
              "      <td>4.683928e+00</td>\n",
              "      <td>8.038868e+00</td>\n",
              "      <td>3.293434e+00</td>\n",
              "      <td>5.644027e+00</td>\n",
              "      <td>2.710643e-02</td>\n",
              "      <td>5.616522e-02</td>\n",
              "      <td>4.935732e-01</td>\n",
              "      <td>1.830711e+00</td>\n",
              "      <td>9.036140e+00</td>\n",
              "      <td>3.621616e+01</td>\n",
              "      <td>3.646130e-01</td>\n",
              "      <td>3.775338e-01</td>\n",
              "      <td>1.815748e+05</td>\n",
              "      <td>4.991124e+04</td>\n",
              "      <td>2.300656e+04</td>\n",
              "      <td>4.507298e+04</td>\n",
              "      <td>2.815387e+04</td>\n",
              "      <td>44.729163</td>\n",
              "      <td>44.729272</td>\n",
              "      <td>0.993401</td>\n",
              "      <td>1.760569</td>\n",
              "      <td>6.627271</td>\n",
              "      <td>25.548212</td>\n",
              "      <td>3.275893</td>\n",
              "      <td>8.150964</td>\n",
              "      <td>0.411496</td>\n",
              "      <td>0.407996</td>\n",
              "      <td>23.924584</td>\n",
              "      <td>0.0</td>\n",
              "      <td>129.040594</td>\n",
              "      <td>0.0</td>\n",
              "      <td>9.671178</td>\n",
              "      <td>375.385500</td>\n",
              "      <td>7625.988281</td>\n",
              "      <td>198.629496</td>\n",
              "      <td>3693.122590</td>\n",
              "      <td>7.311822</td>\n",
              "      <td>8.159980</td>\n",
              "    </tr>\n",
              "    <tr>\n",
              "      <th>min</th>\n",
              "      <td>NaN</td>\n",
              "      <td>5.000000e+02</td>\n",
              "      <td>5.000000e+02</td>\n",
              "      <td>0.000000e+00</td>\n",
              "      <td>5.310000e+00</td>\n",
              "      <td>4.930000e+00</td>\n",
              "      <td>0.000000e+00</td>\n",
              "      <td>-1.000000e+00</td>\n",
              "      <td>0.000000e+00</td>\n",
              "      <td>6.100000e+02</td>\n",
              "      <td>6.140000e+02</td>\n",
              "      <td>0.000000e+00</td>\n",
              "      <td>0.000000e+00</td>\n",
              "      <td>0.000000</td>\n",
              "      <td>0.000000e+00</td>\n",
              "      <td>0.000000e+00</td>\n",
              "      <td>0.000000e+00</td>\n",
              "      <td>0.000000e+00</td>\n",
              "      <td>1.000000e+00</td>\n",
              "      <td>0.000000e+00</td>\n",
              "      <td>0.000000e+00</td>\n",
              "      <td>0.000000e+00</td>\n",
              "      <td>0.000000e+00</td>\n",
              "      <td>0.000000e+00</td>\n",
              "      <td>0.000000e+00</td>\n",
              "      <td>-9.500000e-09</td>\n",
              "      <td>0.000000e+00</td>\n",
              "      <td>0.000000e+00</td>\n",
              "      <td>0.000000e+00</td>\n",
              "      <td>0.000000e+00</td>\n",
              "      <td>0.000000e+00</td>\n",
              "      <td>0.000000e+00</td>\n",
              "      <td>0.000000</td>\n",
              "      <td>1.0</td>\n",
              "      <td>5.693510e+03</td>\n",
              "      <td>0.000000</td>\n",
              "      <td>0.000000e+00</td>\n",
              "      <td>0.000000e+00</td>\n",
              "      <td>0.000000e+00</td>\n",
              "      <td>0.000000e+00</td>\n",
              "      <td>...</td>\n",
              "      <td>0.000000e+00</td>\n",
              "      <td>0.000000e+00</td>\n",
              "      <td>0.000000e+00</td>\n",
              "      <td>0.000000e+00</td>\n",
              "      <td>0.000000e+00</td>\n",
              "      <td>0.000000e+00</td>\n",
              "      <td>0.000000e+00</td>\n",
              "      <td>0.000000e+00</td>\n",
              "      <td>0.000000e+00</td>\n",
              "      <td>0.000000e+00</td>\n",
              "      <td>0.000000e+00</td>\n",
              "      <td>0.000000e+00</td>\n",
              "      <td>0.000000e+00</td>\n",
              "      <td>0.000000e+00</td>\n",
              "      <td>0.000000e+00</td>\n",
              "      <td>0.000000e+00</td>\n",
              "      <td>0.000000e+00</td>\n",
              "      <td>0.000000e+00</td>\n",
              "      <td>0.000000e+00</td>\n",
              "      <td>540.000000</td>\n",
              "      <td>544.000000</td>\n",
              "      <td>0.000000</td>\n",
              "      <td>0.000000</td>\n",
              "      <td>0.000000</td>\n",
              "      <td>0.000000</td>\n",
              "      <td>0.000000</td>\n",
              "      <td>0.000000</td>\n",
              "      <td>0.000000</td>\n",
              "      <td>0.000000</td>\n",
              "      <td>0.000000</td>\n",
              "      <td>3.0</td>\n",
              "      <td>0.640000</td>\n",
              "      <td>3.0</td>\n",
              "      <td>0.000000</td>\n",
              "      <td>1.920000</td>\n",
              "      <td>55.730000</td>\n",
              "      <td>0.010000</td>\n",
              "      <td>44.210000</td>\n",
              "      <td>0.200000</td>\n",
              "      <td>0.000000</td>\n",
              "    </tr>\n",
              "    <tr>\n",
              "      <th>25%</th>\n",
              "      <td>NaN</td>\n",
              "      <td>8.000000e+03</td>\n",
              "      <td>8.000000e+03</td>\n",
              "      <td>8.000000e+03</td>\n",
              "      <td>9.490000e+00</td>\n",
              "      <td>2.516500e+02</td>\n",
              "      <td>4.600000e+04</td>\n",
              "      <td>1.189000e+01</td>\n",
              "      <td>0.000000e+00</td>\n",
              "      <td>6.750000e+02</td>\n",
              "      <td>6.790000e+02</td>\n",
              "      <td>0.000000e+00</td>\n",
              "      <td>1.600000e+01</td>\n",
              "      <td>55.000000</td>\n",
              "      <td>8.000000e+00</td>\n",
              "      <td>0.000000e+00</td>\n",
              "      <td>5.950000e+03</td>\n",
              "      <td>3.150000e+01</td>\n",
              "      <td>1.500000e+01</td>\n",
              "      <td>0.000000e+00</td>\n",
              "      <td>0.000000e+00</td>\n",
              "      <td>4.546458e+03</td>\n",
              "      <td>4.531800e+03</td>\n",
              "      <td>3.000000e+03</td>\n",
              "      <td>7.281875e+02</td>\n",
              "      <td>0.000000e+00</td>\n",
              "      <td>0.000000e+00</td>\n",
              "      <td>0.000000e+00</td>\n",
              "      <td>3.103300e+02</td>\n",
              "      <td>6.540000e+02</td>\n",
              "      <td>6.500000e+02</td>\n",
              "      <td>0.000000e+00</td>\n",
              "      <td>27.000000</td>\n",
              "      <td>1.0</td>\n",
              "      <td>8.340000e+04</td>\n",
              "      <td>13.530000</td>\n",
              "      <td>0.000000e+00</td>\n",
              "      <td>0.000000e+00</td>\n",
              "      <td>2.909200e+04</td>\n",
              "      <td>0.000000e+00</td>\n",
              "      <td>...</td>\n",
              "      <td>4.000000e+00</td>\n",
              "      <td>3.000000e+00</td>\n",
              "      <td>5.000000e+00</td>\n",
              "      <td>8.000000e+00</td>\n",
              "      <td>3.000000e+00</td>\n",
              "      <td>8.000000e+00</td>\n",
              "      <td>0.000000e+00</td>\n",
              "      <td>0.000000e+00</td>\n",
              "      <td>0.000000e+00</td>\n",
              "      <td>1.000000e+00</td>\n",
              "      <td>9.130000e+01</td>\n",
              "      <td>0.000000e+00</td>\n",
              "      <td>0.000000e+00</td>\n",
              "      <td>0.000000e+00</td>\n",
              "      <td>5.073100e+04</td>\n",
              "      <td>2.089200e+04</td>\n",
              "      <td>8.300000e+03</td>\n",
              "      <td>1.500000e+04</td>\n",
              "      <td>1.510675e+04</td>\n",
              "      <td>645.000000</td>\n",
              "      <td>649.000000</td>\n",
              "      <td>0.000000</td>\n",
              "      <td>0.000000</td>\n",
              "      <td>7.000000</td>\n",
              "      <td>39.800000</td>\n",
              "      <td>1.000000</td>\n",
              "      <td>7.000000</td>\n",
              "      <td>0.000000</td>\n",
              "      <td>0.000000</td>\n",
              "      <td>16.000000</td>\n",
              "      <td>3.0</td>\n",
              "      <td>59.440000</td>\n",
              "      <td>3.0</td>\n",
              "      <td>5.000000</td>\n",
              "      <td>175.230000</td>\n",
              "      <td>5627.000000</td>\n",
              "      <td>44.440000</td>\n",
              "      <td>2208.000000</td>\n",
              "      <td>45.000000</td>\n",
              "      <td>6.000000</td>\n",
              "    </tr>\n",
              "    <tr>\n",
              "      <th>50%</th>\n",
              "      <td>NaN</td>\n",
              "      <td>1.290000e+04</td>\n",
              "      <td>1.287500e+04</td>\n",
              "      <td>1.280000e+04</td>\n",
              "      <td>1.262000e+01</td>\n",
              "      <td>3.779900e+02</td>\n",
              "      <td>6.500000e+04</td>\n",
              "      <td>1.784000e+01</td>\n",
              "      <td>0.000000e+00</td>\n",
              "      <td>6.900000e+02</td>\n",
              "      <td>6.940000e+02</td>\n",
              "      <td>0.000000e+00</td>\n",
              "      <td>3.100000e+01</td>\n",
              "      <td>74.000000</td>\n",
              "      <td>1.100000e+01</td>\n",
              "      <td>0.000000e+00</td>\n",
              "      <td>1.132400e+04</td>\n",
              "      <td>5.030000e+01</td>\n",
              "      <td>2.200000e+01</td>\n",
              "      <td>0.000000e+00</td>\n",
              "      <td>0.000000e+00</td>\n",
              "      <td>9.329720e+03</td>\n",
              "      <td>9.309675e+03</td>\n",
              "      <td>7.000000e+03</td>\n",
              "      <td>1.525940e+03</td>\n",
              "      <td>0.000000e+00</td>\n",
              "      <td>0.000000e+00</td>\n",
              "      <td>0.000000e+00</td>\n",
              "      <td>6.005700e+02</td>\n",
              "      <td>6.990000e+02</td>\n",
              "      <td>6.950000e+02</td>\n",
              "      <td>0.000000e+00</td>\n",
              "      <td>44.000000</td>\n",
              "      <td>1.0</td>\n",
              "      <td>1.100000e+05</td>\n",
              "      <td>18.840000</td>\n",
              "      <td>0.000000e+00</td>\n",
              "      <td>0.000000e+00</td>\n",
              "      <td>7.924000e+04</td>\n",
              "      <td>1.000000e+00</td>\n",
              "      <td>...</td>\n",
              "      <td>7.000000e+00</td>\n",
              "      <td>6.000000e+00</td>\n",
              "      <td>7.000000e+00</td>\n",
              "      <td>1.200000e+01</td>\n",
              "      <td>5.000000e+00</td>\n",
              "      <td>1.100000e+01</td>\n",
              "      <td>0.000000e+00</td>\n",
              "      <td>0.000000e+00</td>\n",
              "      <td>0.000000e+00</td>\n",
              "      <td>2.000000e+00</td>\n",
              "      <td>1.000000e+02</td>\n",
              "      <td>3.750000e+01</td>\n",
              "      <td>0.000000e+00</td>\n",
              "      <td>0.000000e+00</td>\n",
              "      <td>1.142985e+05</td>\n",
              "      <td>3.786400e+04</td>\n",
              "      <td>1.630000e+04</td>\n",
              "      <td>3.269600e+04</td>\n",
              "      <td>2.651650e+04</td>\n",
              "      <td>670.000000</td>\n",
              "      <td>674.000000</td>\n",
              "      <td>0.000000</td>\n",
              "      <td>1.000000</td>\n",
              "      <td>10.000000</td>\n",
              "      <td>60.200000</td>\n",
              "      <td>2.000000</td>\n",
              "      <td>11.000000</td>\n",
              "      <td>0.000000</td>\n",
              "      <td>0.000000</td>\n",
              "      <td>36.000000</td>\n",
              "      <td>3.0</td>\n",
              "      <td>119.140000</td>\n",
              "      <td>3.0</td>\n",
              "      <td>15.000000</td>\n",
              "      <td>352.770000</td>\n",
              "      <td>10028.390000</td>\n",
              "      <td>133.160000</td>\n",
              "      <td>4146.110000</td>\n",
              "      <td>45.000000</td>\n",
              "      <td>14.000000</td>\n",
              "    </tr>\n",
              "    <tr>\n",
              "      <th>75%</th>\n",
              "      <td>NaN</td>\n",
              "      <td>2.000000e+04</td>\n",
              "      <td>2.000000e+04</td>\n",
              "      <td>2.000000e+04</td>\n",
              "      <td>1.599000e+01</td>\n",
              "      <td>5.933200e+02</td>\n",
              "      <td>9.300000e+04</td>\n",
              "      <td>2.449000e+01</td>\n",
              "      <td>0.000000e+00</td>\n",
              "      <td>7.150000e+02</td>\n",
              "      <td>7.190000e+02</td>\n",
              "      <td>1.000000e+00</td>\n",
              "      <td>5.000000e+01</td>\n",
              "      <td>92.000000</td>\n",
              "      <td>1.400000e+01</td>\n",
              "      <td>0.000000e+00</td>\n",
              "      <td>2.024600e+04</td>\n",
              "      <td>6.940000e+01</td>\n",
              "      <td>3.100000e+01</td>\n",
              "      <td>6.149940e+03</td>\n",
              "      <td>6.146310e+03</td>\n",
              "      <td>1.694087e+04</td>\n",
              "      <td>1.691671e+04</td>\n",
              "      <td>1.389910e+04</td>\n",
              "      <td>3.108062e+03</td>\n",
              "      <td>0.000000e+00</td>\n",
              "      <td>0.000000e+00</td>\n",
              "      <td>0.000000e+00</td>\n",
              "      <td>3.743750e+03</td>\n",
              "      <td>7.340000e+02</td>\n",
              "      <td>7.300000e+02</td>\n",
              "      <td>0.000000e+00</td>\n",
              "      <td>62.000000</td>\n",
              "      <td>1.0</td>\n",
              "      <td>1.479950e+05</td>\n",
              "      <td>24.620000</td>\n",
              "      <td>0.000000e+00</td>\n",
              "      <td>0.000000e+00</td>\n",
              "      <td>2.132040e+05</td>\n",
              "      <td>1.000000e+00</td>\n",
              "      <td>...</td>\n",
              "      <td>1.000000e+01</td>\n",
              "      <td>1.100000e+01</td>\n",
              "      <td>1.000000e+01</td>\n",
              "      <td>1.800000e+01</td>\n",
              "      <td>7.000000e+00</td>\n",
              "      <td>1.400000e+01</td>\n",
              "      <td>0.000000e+00</td>\n",
              "      <td>0.000000e+00</td>\n",
              "      <td>0.000000e+00</td>\n",
              "      <td>3.000000e+00</td>\n",
              "      <td>1.000000e+02</td>\n",
              "      <td>7.140000e+01</td>\n",
              "      <td>0.000000e+00</td>\n",
              "      <td>0.000000e+00</td>\n",
              "      <td>2.577550e+05</td>\n",
              "      <td>6.435000e+04</td>\n",
              "      <td>3.030000e+04</td>\n",
              "      <td>5.880425e+04</td>\n",
              "      <td>4.376900e+04</td>\n",
              "      <td>695.000000</td>\n",
              "      <td>699.000000</td>\n",
              "      <td>1.000000</td>\n",
              "      <td>2.000000</td>\n",
              "      <td>15.000000</td>\n",
              "      <td>78.600000</td>\n",
              "      <td>4.000000</td>\n",
              "      <td>17.000000</td>\n",
              "      <td>0.000000</td>\n",
              "      <td>0.000000</td>\n",
              "      <td>56.000000</td>\n",
              "      <td>3.0</td>\n",
              "      <td>213.260000</td>\n",
              "      <td>3.0</td>\n",
              "      <td>22.000000</td>\n",
              "      <td>620.175000</td>\n",
              "      <td>16151.890000</td>\n",
              "      <td>284.190000</td>\n",
              "      <td>6850.172500</td>\n",
              "      <td>50.000000</td>\n",
              "      <td>18.000000</td>\n",
              "    </tr>\n",
              "    <tr>\n",
              "      <th>max</th>\n",
              "      <td>NaN</td>\n",
              "      <td>4.000000e+04</td>\n",
              "      <td>4.000000e+04</td>\n",
              "      <td>4.000000e+04</td>\n",
              "      <td>3.099000e+01</td>\n",
              "      <td>1.719830e+03</td>\n",
              "      <td>1.100000e+08</td>\n",
              "      <td>9.990000e+02</td>\n",
              "      <td>5.800000e+01</td>\n",
              "      <td>8.450000e+02</td>\n",
              "      <td>8.500000e+02</td>\n",
              "      <td>3.300000e+01</td>\n",
              "      <td>2.260000e+02</td>\n",
              "      <td>129.000000</td>\n",
              "      <td>1.010000e+02</td>\n",
              "      <td>8.600000e+01</td>\n",
              "      <td>2.904836e+06</td>\n",
              "      <td>8.923000e+02</td>\n",
              "      <td>1.760000e+02</td>\n",
              "      <td>4.000000e+04</td>\n",
              "      <td>4.000000e+04</td>\n",
              "      <td>6.329688e+04</td>\n",
              "      <td>6.329688e+04</td>\n",
              "      <td>4.000000e+04</td>\n",
              "      <td>2.819250e+04</td>\n",
              "      <td>1.484340e+03</td>\n",
              "      <td>3.985955e+04</td>\n",
              "      <td>7.174719e+03</td>\n",
              "      <td>4.219205e+04</td>\n",
              "      <td>8.500000e+02</td>\n",
              "      <td>8.450000e+02</td>\n",
              "      <td>2.000000e+01</td>\n",
              "      <td>226.000000</td>\n",
              "      <td>1.0</td>\n",
              "      <td>7.874821e+06</td>\n",
              "      <td>69.490000</td>\n",
              "      <td>1.400000e+01</td>\n",
              "      <td>9.152545e+06</td>\n",
              "      <td>9.971659e+06</td>\n",
              "      <td>1.800000e+01</td>\n",
              "      <td>...</td>\n",
              "      <td>8.600000e+01</td>\n",
              "      <td>1.590000e+02</td>\n",
              "      <td>9.100000e+01</td>\n",
              "      <td>1.510000e+02</td>\n",
              "      <td>6.500000e+01</td>\n",
              "      <td>1.010000e+02</td>\n",
              "      <td>7.000000e+00</td>\n",
              "      <td>4.000000e+00</td>\n",
              "      <td>5.800000e+01</td>\n",
              "      <td>3.200000e+01</td>\n",
              "      <td>1.000000e+02</td>\n",
              "      <td>1.000000e+02</td>\n",
              "      <td>1.200000e+01</td>\n",
              "      <td>8.500000e+01</td>\n",
              "      <td>9.999999e+06</td>\n",
              "      <td>3.408095e+06</td>\n",
              "      <td>1.569000e+06</td>\n",
              "      <td>2.118996e+06</td>\n",
              "      <td>1.110019e+06</td>\n",
              "      <td>845.000000</td>\n",
              "      <td>850.000000</td>\n",
              "      <td>6.000000</td>\n",
              "      <td>27.000000</td>\n",
              "      <td>82.000000</td>\n",
              "      <td>434.300000</td>\n",
              "      <td>43.000000</td>\n",
              "      <td>106.000000</td>\n",
              "      <td>21.000000</td>\n",
              "      <td>23.000000</td>\n",
              "      <td>185.000000</td>\n",
              "      <td>3.0</td>\n",
              "      <td>943.940000</td>\n",
              "      <td>3.0</td>\n",
              "      <td>37.000000</td>\n",
              "      <td>2680.890000</td>\n",
              "      <td>40306.410000</td>\n",
              "      <td>1407.860000</td>\n",
              "      <td>33601.000000</td>\n",
              "      <td>521.350000</td>\n",
              "      <td>181.000000</td>\n",
              "    </tr>\n",
              "  </tbody>\n",
              "</table>\n",
              "<p>8 rows × 113 columns</p>\n",
              "</div>"
            ],
            "text/plain": [
              "       member_id     loan_amnt  ...  settlement_percentage  settlement_term\n",
              "count        0.0  2.260668e+06  ...           34246.000000     34246.000000\n",
              "mean         NaN  1.504693e+04  ...              47.780365        13.191322\n",
              "std          NaN  9.190245e+03  ...               7.311822         8.159980\n",
              "min          NaN  5.000000e+02  ...               0.200000         0.000000\n",
              "25%          NaN  8.000000e+03  ...              45.000000         6.000000\n",
              "50%          NaN  1.290000e+04  ...              45.000000        14.000000\n",
              "75%          NaN  2.000000e+04  ...              50.000000        18.000000\n",
              "max          NaN  4.000000e+04  ...             521.350000       181.000000\n",
              "\n",
              "[8 rows x 113 columns]"
            ]
          },
          "metadata": {
            "tags": []
          },
          "execution_count": 12
        }
      ]
    },
    {
      "cell_type": "code",
      "metadata": {
        "colab": {
          "base_uri": "https://localhost:8080/"
        },
        "id": "KQbqltrsD3n5",
        "outputId": "285d5715-3a1c-4237-efb3-c4862b968e07"
      },
      "source": [
        "data.columns"
      ],
      "execution_count": null,
      "outputs": [
        {
          "output_type": "execute_result",
          "data": {
            "text/plain": [
              "Index(['id', 'member_id', 'loan_amnt', 'funded_amnt', 'funded_amnt_inv',\n",
              "       'term', 'int_rate', 'installment', 'grade', 'sub_grade',\n",
              "       ...\n",
              "       'hardship_payoff_balance_amount', 'hardship_last_payment_amount',\n",
              "       'disbursement_method', 'debt_settlement_flag',\n",
              "       'debt_settlement_flag_date', 'settlement_status', 'settlement_date',\n",
              "       'settlement_amount', 'settlement_percentage', 'settlement_term'],\n",
              "      dtype='object', length=151)"
            ]
          },
          "metadata": {
            "tags": []
          },
          "execution_count": 13
        }
      ]
    },
    {
      "cell_type": "code",
      "metadata": {
        "colab": {
          "base_uri": "https://localhost:8080/"
        },
        "id": "WynM71isD8VW",
        "outputId": "e9f4db05-d7ac-45c7-9aeb-a7db9360df85"
      },
      "source": [
        "missing_data = data.isnull().mean().sort_values(ascending=False)*100\r\n",
        "missing_data"
      ],
      "execution_count": null,
      "outputs": [
        {
          "output_type": "execute_result",
          "data": {
            "text/plain": [
              "member_id                                     100.000000\n",
              "orig_projected_additional_accrued_interest     99.617331\n",
              "hardship_loan_status                           99.517097\n",
              "hardship_dpd                                   99.517097\n",
              "hardship_reason                                99.517097\n",
              "                                                 ...    \n",
              "initial_list_status                             0.001460\n",
              "revol_bal                                       0.001460\n",
              "hardship_flag                                   0.001460\n",
              "fico_range_high                                 0.001460\n",
              "id                                              0.000000\n",
              "Length: 151, dtype: float64"
            ]
          },
          "metadata": {
            "tags": []
          },
          "execution_count": 14
        }
      ]
    },
    {
      "cell_type": "code",
      "metadata": {
        "colab": {
          "base_uri": "https://localhost:8080/",
          "height": 332
        },
        "id": "IuVQwoMfD-yi",
        "outputId": "fdb7bd54-6ca3-42c4-f5c3-7a8de9f6271f"
      },
      "source": [
        "%matplotlib inline\r\n",
        "plt.figure(figsize=(12,4))\r\n",
        "plt.title('Histogram of missing data\\n', fontsize=16)\r\n",
        "plt.xlabel('Percentage of missing data (%)')\r\n",
        "plt.ylabel('Count')\r\n",
        "\r\n",
        "# Setting the figure up:\r\n",
        "missing_data.plot.hist(bins=20)"
      ],
      "execution_count": null,
      "outputs": [
        {
          "output_type": "execute_result",
          "data": {
            "text/plain": [
              "<matplotlib.axes._subplots.AxesSubplot at 0x7fdde8451590>"
            ]
          },
          "metadata": {
            "tags": []
          },
          "execution_count": 17
        },
        {
          "output_type": "display_data",
          "data": {
            "image/png": "[encoded data removed]",
            "text/plain": [
              "<Figure size 864x288 with 1 Axes>"
            ]
          },
          "metadata": {
            "tags": [],
            "needs_background": "light"
          }
        }
      ]
    },
    {
      "cell_type": "code",
      "metadata": {
        "id": "UoVsKIHiEDLn"
      },
      "source": [
        "drop_columns = sorted(list(missing_data[missing_data > 30].index))"
      ],
      "execution_count": null,
      "outputs": []
    },
    {
      "cell_type": "code",
      "metadata": {
        "colab": {
          "base_uri": "https://localhost:8080/"
        },
        "id": "g2SHzuZsEN0I",
        "outputId": "aecbf2cf-4aa5-484e-b14c-56f4b4c9eecb"
      },
      "source": [
        "drop_columns\r\n",
        "print(len(drop_columns))"
      ],
      "execution_count": null,
      "outputs": [
        {
          "output_type": "stream",
          "text": [
            "58\n"
          ],
          "name": "stdout"
        }
      ]
    },
    {
      "cell_type": "code",
      "metadata": {
        "id": "ej9L-Jb1EQaY"
      },
      "source": [
        "data.drop(labels=drop_columns, axis=1, inplace=True)"
      ],
      "execution_count": null,
      "outputs": []
    },
    {
      "cell_type": "code",
      "metadata": {
        "colab": {
          "base_uri": "https://localhost:8080/"
        },
        "id": "0rVKssbcETj8",
        "outputId": "553c58fd-2db3-4e87-8d9f-5f34e5b653f7"
      },
      "source": [
        "data.shape"
      ],
      "execution_count": null,
      "outputs": [
        {
          "output_type": "execute_result",
          "data": {
            "text/plain": [
              "(2260701, 93)"
            ]
          },
          "metadata": {
            "tags": []
          },
          "execution_count": 21
        }
      ]
    },
    {
      "cell_type": "code",
      "metadata": {
        "colab": {
          "base_uri": "https://localhost:8080/"
        },
        "id": "2vWlPfyYEXa6",
        "outputId": "67f0a398-f1ef-4e44-d330-734e1de0c5cf"
      },
      "source": [
        "data.isnull().sum()"
      ],
      "execution_count": null,
      "outputs": [
        {
          "output_type": "execute_result",
          "data": {
            "text/plain": [
              "id                                0\n",
              "loan_amnt                        33\n",
              "funded_amnt                      33\n",
              "funded_amnt_inv                  33\n",
              "term                             33\n",
              "                              ...  \n",
              "total_bc_limit                50063\n",
              "total_il_high_credit_limit    70309\n",
              "hardship_flag                    33\n",
              "disbursement_method              33\n",
              "debt_settlement_flag             33\n",
              "Length: 93, dtype: int64"
            ]
          },
          "metadata": {
            "tags": []
          },
          "execution_count": 22
        }
      ]
    },
    {
      "cell_type": "code",
      "metadata": {
        "colab": {
          "base_uri": "https://localhost:8080/"
        },
        "id": "2glQROTZEZf3",
        "outputId": "295802ef-7bb0-4175-fe30-072cdbcffe9f"
      },
      "source": [
        "df = data.drop(['id','policy_code','out_prncp','out_prncp_inv','url','pymnt_plan','hardship_flag'], axis=1)\r\n",
        "print(df.shape)"
      ],
      "execution_count": null,
      "outputs": [
        {
          "output_type": "stream",
          "text": [
            "(2260701, 86)\n"
          ],
          "name": "stdout"
        }
      ]
    },
    {
      "cell_type": "code",
      "metadata": {
        "colab": {
          "base_uri": "https://localhost:8080/"
        },
        "id": "ZyqzbS5SEezg",
        "outputId": "6cb9e669-ebcd-42a5-dafa-ff79c6bdf9d9"
      },
      "source": [
        "data[\"loan_status\"].value_counts()"
      ],
      "execution_count": null,
      "outputs": [
        {
          "output_type": "execute_result",
          "data": {
            "text/plain": [
              "Fully Paid                                             1076751\n",
              "Current                                                 878317\n",
              "Charged Off                                             268559\n",
              "Late (31-120 days)                                       21467\n",
              "In Grace Period                                           8436\n",
              "Late (16-30 days)                                         4349\n",
              "Does not meet the credit policy. Status:Fully Paid        1988\n",
              "Does not meet the credit policy. Status:Charged Off        761\n",
              "Default                                                     40\n",
              "Name: loan_status, dtype: int64"
            ]
          },
          "metadata": {
            "tags": []
          },
          "execution_count": 24
        }
      ]
    },
    {
      "cell_type": "code",
      "metadata": {
        "id": "6iRC3hfUEhPr"
      },
      "source": [
        "data=data.loc[(data['loan_status'].isin(['Fully Paid','Charged Off']))]"
      ],
      "execution_count": null,
      "outputs": []
    },
    {
      "cell_type": "code",
      "metadata": {
        "colab": {
          "base_uri": "https://localhost:8080/"
        },
        "id": "onk9ex7sEmFC",
        "outputId": "c2ace370-0196-4491-e5c9-1a846c1b81ec"
      },
      "source": [
        "data['loan_status'].unique()"
      ],
      "execution_count": null,
      "outputs": [
        {
          "output_type": "execute_result",
          "data": {
            "text/plain": [
              "array(['Fully Paid', 'Charged Off'], dtype=object)"
            ]
          },
          "metadata": {
            "tags": []
          },
          "execution_count": 26
        }
      ]
    },
    {
      "cell_type": "code",
      "metadata": {
        "colab": {
          "base_uri": "https://localhost:8080/"
        },
        "id": "sN-c9lk1Eo5-",
        "outputId": "b343bf06-1eb0-4a26-fd21-3260366409e6"
      },
      "source": [
        "data.shape"
      ],
      "execution_count": null,
      "outputs": [
        {
          "output_type": "execute_result",
          "data": {
            "text/plain": [
              "(1345310, 93)"
            ]
          },
          "metadata": {
            "tags": []
          },
          "execution_count": 27
        }
      ]
    },
    {
      "cell_type": "code",
      "metadata": {
        "colab": {
          "base_uri": "https://localhost:8080/"
        },
        "id": "h8t36MqIEsvA",
        "outputId": "d89a8877-d516-49b1-99d2-860d5f5a4836"
      },
      "source": [
        "data.nunique()"
      ],
      "execution_count": null,
      "outputs": [
        {
          "output_type": "execute_result",
          "data": {
            "text/plain": [
              "id                            1345310\n",
              "loan_amnt                        1556\n",
              "funded_amnt                      1556\n",
              "funded_amnt_inv                  9016\n",
              "term                                2\n",
              "                               ...   \n",
              "total_bc_limit                  17086\n",
              "total_il_high_credit_limit     162548\n",
              "hardship_flag                       1\n",
              "disbursement_method                 2\n",
              "debt_settlement_flag                2\n",
              "Length: 93, dtype: int64"
            ]
          },
          "metadata": {
            "tags": []
          },
          "execution_count": 28
        }
      ]
    },
    {
      "cell_type": "code",
      "metadata": {
        "colab": {
          "base_uri": "https://localhost:8080/"
        },
        "id": "iRSpoLymEx9F",
        "outputId": "dcbb95f0-cc09-418d-c0c3-31c50642fff3"
      },
      "source": [
        "data['grade'].unique()"
      ],
      "execution_count": null,
      "outputs": [
        {
          "output_type": "execute_result",
          "data": {
            "text/plain": [
              "array(['C', 'B', 'F', 'A', 'E', 'D', 'G'], dtype=object)"
            ]
          },
          "metadata": {
            "tags": []
          },
          "execution_count": 29
        }
      ]
    },
    {
      "cell_type": "code",
      "metadata": {
        "colab": {
          "base_uri": "https://localhost:8080/",
          "height": 419
        },
        "id": "zIswDidkE0KZ",
        "outputId": "a6bb8821-446c-4990-dd59-d299ff853f14"
      },
      "source": [
        "data[data['grade'] == 'A'].describe().T"
      ],
      "execution_count": null,
      "outputs": [
        {
          "output_type": "execute_result",
          "data": {
            "text/html": [
              "<div>\n",
              "<style scoped>\n",
              "    .dataframe tbody tr th:only-of-type {\n",
              "        vertical-align: middle;\n",
              "    }\n",
              "\n",
              "    .dataframe tbody tr th {\n",
              "        vertical-align: top;\n",
              "    }\n",
              "\n",
              "    .dataframe thead th {\n",
              "        text-align: right;\n",
              "    }\n",
              "</style>\n",
              "<table border=\"1\" class=\"dataframe\">\n",
              "  <thead>\n",
              "    <tr style=\"text-align: right;\">\n",
              "      <th></th>\n",
              "      <th>count</th>\n",
              "      <th>mean</th>\n",
              "      <th>std</th>\n",
              "      <th>min</th>\n",
              "      <th>25%</th>\n",
              "      <th>50%</th>\n",
              "      <th>75%</th>\n",
              "      <th>max</th>\n",
              "    </tr>\n",
              "  </thead>\n",
              "  <tbody>\n",
              "    <tr>\n",
              "      <th>loan_amnt</th>\n",
              "      <td>235090.0</td>\n",
              "      <td>13892.350483</td>\n",
              "      <td>8068.238844</td>\n",
              "      <td>500.00</td>\n",
              "      <td>8000.00</td>\n",
              "      <td>12000.00</td>\n",
              "      <td>20000.00</td>\n",
              "      <td>40000.00</td>\n",
              "    </tr>\n",
              "    <tr>\n",
              "      <th>funded_amnt</th>\n",
              "      <td>235090.0</td>\n",
              "      <td>13882.628249</td>\n",
              "      <td>8069.188138</td>\n",
              "      <td>500.00</td>\n",
              "      <td>8000.00</td>\n",
              "      <td>12000.00</td>\n",
              "      <td>20000.00</td>\n",
              "      <td>40000.00</td>\n",
              "    </tr>\n",
              "    <tr>\n",
              "      <th>funded_amnt_inv</th>\n",
              "      <td>235090.0</td>\n",
              "      <td>13866.756903</td>\n",
              "      <td>8074.048992</td>\n",
              "      <td>0.00</td>\n",
              "      <td>7825.00</td>\n",
              "      <td>12000.00</td>\n",
              "      <td>19975.00</td>\n",
              "      <td>40000.00</td>\n",
              "    </tr>\n",
              "    <tr>\n",
              "      <th>int_rate</th>\n",
              "      <td>235090.0</td>\n",
              "      <td>7.113039</td>\n",
              "      <td>0.999755</td>\n",
              "      <td>5.31</td>\n",
              "      <td>6.49</td>\n",
              "      <td>7.26</td>\n",
              "      <td>7.89</td>\n",
              "      <td>9.63</td>\n",
              "    </tr>\n",
              "    <tr>\n",
              "      <th>installment</th>\n",
              "      <td>235090.0</td>\n",
              "      <td>423.720573</td>\n",
              "      <td>246.640921</td>\n",
              "      <td>14.77</td>\n",
              "      <td>239.74</td>\n",
              "      <td>368.72</td>\n",
              "      <td>593.50</td>\n",
              "      <td>1268.46</td>\n",
              "    </tr>\n",
              "    <tr>\n",
              "      <th>...</th>\n",
              "      <td>...</td>\n",
              "      <td>...</td>\n",
              "      <td>...</td>\n",
              "      <td>...</td>\n",
              "      <td>...</td>\n",
              "      <td>...</td>\n",
              "      <td>...</td>\n",
              "      <td>...</td>\n",
              "    </tr>\n",
              "    <tr>\n",
              "      <th>tax_liens</th>\n",
              "      <td>235073.0</td>\n",
              "      <td>0.034134</td>\n",
              "      <td>0.318232</td>\n",
              "      <td>0.00</td>\n",
              "      <td>0.00</td>\n",
              "      <td>0.00</td>\n",
              "      <td>0.00</td>\n",
              "      <td>37.00</td>\n",
              "    </tr>\n",
              "    <tr>\n",
              "      <th>tot_hi_cred_lim</th>\n",
              "      <td>218442.0</td>\n",
              "      <td>230196.021379</td>\n",
              "      <td>209578.081532</td>\n",
              "      <td>0.00</td>\n",
              "      <td>76768.00</td>\n",
              "      <td>183932.50</td>\n",
              "      <td>322409.00</td>\n",
              "      <td>9999999.00</td>\n",
              "    </tr>\n",
              "    <tr>\n",
              "      <th>total_bal_ex_mort</th>\n",
              "      <td>222827.0</td>\n",
              "      <td>52112.059553</td>\n",
              "      <td>52203.815264</td>\n",
              "      <td>0.00</td>\n",
              "      <td>21383.00</td>\n",
              "      <td>38304.00</td>\n",
              "      <td>64914.00</td>\n",
              "      <td>2688920.00</td>\n",
              "    </tr>\n",
              "    <tr>\n",
              "      <th>total_bc_limit</th>\n",
              "      <td>222827.0</td>\n",
              "      <td>34164.952308</td>\n",
              "      <td>28670.248031</td>\n",
              "      <td>0.00</td>\n",
              "      <td>14500.00</td>\n",
              "      <td>26300.00</td>\n",
              "      <td>45300.00</td>\n",
              "      <td>760000.00</td>\n",
              "    </tr>\n",
              "    <tr>\n",
              "      <th>total_il_high_credit_limit</th>\n",
              "      <td>218442.0</td>\n",
              "      <td>44915.914037</td>\n",
              "      <td>46715.044980</td>\n",
              "      <td>0.00</td>\n",
              "      <td>15575.00</td>\n",
              "      <td>33557.00</td>\n",
              "      <td>59994.00</td>\n",
              "      <td>2101913.00</td>\n",
              "    </tr>\n",
              "  </tbody>\n",
              "</table>\n",
              "<p>69 rows × 8 columns</p>\n",
              "</div>"
            ],
            "text/plain": [
              "                               count           mean  ...        75%         max\n",
              "loan_amnt                   235090.0   13892.350483  ...   20000.00    40000.00\n",
              "funded_amnt                 235090.0   13882.628249  ...   20000.00    40000.00\n",
              "funded_amnt_inv             235090.0   13866.756903  ...   19975.00    40000.00\n",
              "int_rate                    235090.0       7.113039  ...       7.89        9.63\n",
              "installment                 235090.0     423.720573  ...     593.50     1268.46\n",
              "...                              ...            ...  ...        ...         ...\n",
              "tax_liens                   235073.0       0.034134  ...       0.00       37.00\n",
              "tot_hi_cred_lim             218442.0  230196.021379  ...  322409.00  9999999.00\n",
              "total_bal_ex_mort           222827.0   52112.059553  ...   64914.00  2688920.00\n",
              "total_bc_limit              222827.0   34164.952308  ...   45300.00   760000.00\n",
              "total_il_high_credit_limit  218442.0   44915.914037  ...   59994.00  2101913.00\n",
              "\n",
              "[69 rows x 8 columns]"
            ]
          },
          "metadata": {
            "tags": []
          },
          "execution_count": 30
        }
      ]
    },
    {
      "cell_type": "code",
      "metadata": {
        "colab": {
          "base_uri": "https://localhost:8080/"
        },
        "id": "l2GHjLHeE2L6",
        "outputId": "e5097a2e-c752-45e0-c0cd-d2e77cb50e95"
      },
      "source": [
        "data['sub_grade'].unique()"
      ],
      "execution_count": null,
      "outputs": [
        {
          "output_type": "execute_result",
          "data": {
            "text/plain": [
              "array(['C4', 'C1', 'B4', 'F1', 'C3', 'B2', 'B1', 'A2', 'B5', 'C2', 'E2',\n",
              "       'A4', 'E3', 'C5', 'A1', 'D4', 'F3', 'D1', 'B3', 'D3', 'D5', 'A5',\n",
              "       'F2', 'E4', 'D2', 'E1', 'F5', 'E5', 'A3', 'G2', 'G1', 'G3', 'G4',\n",
              "       'F4', 'G5'], dtype=object)"
            ]
          },
          "metadata": {
            "tags": []
          },
          "execution_count": 31
        }
      ]
    },
    {
      "cell_type": "code",
      "metadata": {
        "colab": {
          "base_uri": "https://localhost:8080/",
          "height": 238
        },
        "id": "YkGgWBtlE4Pj",
        "outputId": "fa5fb774-1f91-4548-9cd3-419cf16519c7"
      },
      "source": [
        "def missing_values(data):\r\n",
        "  missing_val = data.isnull().sum()\r\n",
        "  missing_val_percent = 100 * missing_val/len(data)\r\n",
        "  missing_val_table = pd.concat([missing_val, missing_val_percent], axis=1)\r\n",
        "  missing_val_table_rename = missing_val_table.rename(columns={0:'Missing Values', 1:'% of Total Values'})\r\n",
        "  missing_val_table_rename = missing_val_table_rename[missing_val_table_rename.iloc[:, 1] != 0].sort_values('% of Total Values', ascending=False).round(2)\r\n",
        "  print('DataFrame contains ' + str(data.shape[1]) + ' columns.\\n' 'There are ' + str(missing_val_table_rename.shape[0]) + ' columns having missing values')\r\n",
        "  return missing_val_table_rename\r\n",
        "\r\n",
        "null_accepted = missing_values(data)\r\n",
        "null_accepted.head()"
      ],
      "execution_count": null,
      "outputs": [
        {
          "output_type": "stream",
          "text": [
            "DataFrame contains 93 columns.\n",
            "There are 47 columns having missing values\n"
          ],
          "name": "stdout"
        },
        {
          "output_type": "execute_result",
          "data": {
            "text/html": [
              "<div>\n",
              "<style scoped>\n",
              "    .dataframe tbody tr th:only-of-type {\n",
              "        vertical-align: middle;\n",
              "    }\n",
              "\n",
              "    .dataframe tbody tr th {\n",
              "        vertical-align: top;\n",
              "    }\n",
              "\n",
              "    .dataframe thead th {\n",
              "        text-align: right;\n",
              "    }\n",
              "</style>\n",
              "<table border=\"1\" class=\"dataframe\">\n",
              "  <thead>\n",
              "    <tr style=\"text-align: right;\">\n",
              "      <th></th>\n",
              "      <th>Missing Values</th>\n",
              "      <th>% of Total Values</th>\n",
              "    </tr>\n",
              "  </thead>\n",
              "  <tbody>\n",
              "    <tr>\n",
              "      <th>mths_since_recent_inq</th>\n",
              "      <td>174071</td>\n",
              "      <td>12.94</td>\n",
              "    </tr>\n",
              "    <tr>\n",
              "      <th>num_tl_120dpd_2m</th>\n",
              "      <td>117401</td>\n",
              "      <td>8.73</td>\n",
              "    </tr>\n",
              "    <tr>\n",
              "      <th>mo_sin_old_il_acct</th>\n",
              "      <td>105575</td>\n",
              "      <td>7.85</td>\n",
              "    </tr>\n",
              "    <tr>\n",
              "      <th>emp_title</th>\n",
              "      <td>85785</td>\n",
              "      <td>6.38</td>\n",
              "    </tr>\n",
              "    <tr>\n",
              "      <th>emp_length</th>\n",
              "      <td>78511</td>\n",
              "      <td>5.84</td>\n",
              "    </tr>\n",
              "  </tbody>\n",
              "</table>\n",
              "</div>"
            ],
            "text/plain": [
              "                       Missing Values  % of Total Values\n",
              "mths_since_recent_inq          174071              12.94\n",
              "num_tl_120dpd_2m               117401               8.73\n",
              "mo_sin_old_il_acct             105575               7.85\n",
              "emp_title                       85785               6.38\n",
              "emp_length                      78511               5.84"
            ]
          },
          "metadata": {
            "tags": []
          },
          "execution_count": 32
        }
      ]
    },
    {
      "cell_type": "code",
      "metadata": {
        "colab": {
          "base_uri": "https://localhost:8080/"
        },
        "id": "2V_2BHxbFCMi",
        "outputId": "f1b6a006-6464-4aa4-a78c-2cec187dc677"
      },
      "source": [
        "excluded_features = ['acc_now_delinq',  # won't know at time of the loan\r\n",
        "                     #'acc_open_past_24mths',  # Lending Club metric\r\n",
        "                     'application_type',  # Not relevant\r\n",
        "                     #'bc_open_to_buy',  # Not relevant\r\n",
        "                     'chargeoff_within_12_mths',  # Lending Club metric\r\n",
        "                     'collection_recovery_fee',  # won't know at time of the loan\r\n",
        "                     'debt_settlement_flag',  # won't know at time of the loan\r\n",
        "                     'disbursement_method',  # irrelevant\r\n",
        "                     'earliest_cr_line',  # relevance?\r\n",
        "                     'fico_range_low',  # Credit score - defeats purpose of the exercise!\r\n",
        "                     'fico_range_high',  # Credit score - defeats purpose of the exercise!\r\n",
        "                     #'funded_amnt',  # won't know at time of the loan\r\n",
        "                     #'funded_amnt_inv',  # won't know at time of the loan\r\n",
        "                     #'hardship_flag',  # won't know at time of the loan\r\n",
        "                     #'id',  # irrelevant\r\n",
        "                     'initial_list_status',  # irrelevant\r\n",
        "                     #'last_credit_pull_d',  # won't know at time of loan\r\n",
        "                     'last_fico_range_high',  # won't know at time of loan\r\n",
        "                     'last_fico_range_low',  # won't know at time of loan\r\n",
        "                     #'last_pymnt_d',  # irrelevant\r\n",
        "                     'last_pymnt_amnt',  # irrelevant\r\n",
        "                     #'policy_code',  # irrelevant\r\n",
        "                     #'pymnt_plan',  # won't know at time of loan\r\n",
        "                     'recoveries',  # won't know at time of loan\r\n",
        "                     #'out_prncp_inv',  # won't know at time of loan\r\n",
        "                     #'out_prncp',  # won't know at time of loan\r\n",
        "                     #'tot_hi_cred_lim',  # definition?\r\n",
        "                     'title',  # irrelevant\r\n",
        "                     #'total_pymnt',  # won't know at time of loan\r\n",
        "                     #'total_pymnt_inv',  # won't know at time of loan\r\n",
        "                     #'total_rec_int',  # won't know at time of loan\r\n",
        "                     #'total_rec_late_fee',  # won't know at time of loan\r\n",
        "                     #'total_rec_prncp',  # won't know at time of loan\r\n",
        "                     #'total_rev_hi_lim',  # definition?\r\n",
        "                     #'url',  # irrelevant\r\n",
        "                     'collections_12_mths_ex_med'  # won't know at time of application\r\n",
        "                    ]\r\n",
        "len(excluded_features)"
      ],
      "execution_count": null,
      "outputs": [
        {
          "output_type": "execute_result",
          "data": {
            "text/plain": [
              "16"
            ]
          },
          "metadata": {
            "tags": []
          },
          "execution_count": 34
        }
      ]
    },
    {
      "cell_type": "code",
      "metadata": {
        "id": "eoFyYRcbFIwZ"
      },
      "source": [
        "pd.options.mode.chained_assignment = None\r\n",
        "data.drop(labels=excluded_features, axis=1, inplace=True)"
      ],
      "execution_count": null,
      "outputs": []
    },
    {
      "cell_type": "code",
      "metadata": {
        "id": "hUvVFRI2FLbx"
      },
      "source": [
        "import matplotlib.ticker as mticker\r\n",
        "\r\n",
        "def plot_var(col_name, full_name, df=data, continuous=True, rotation=0, alignment='center'):\r\n",
        "    \"\"\"\r\n",
        "    \r\n",
        "    \"\"\"\r\n",
        "    \r\n",
        "    # Set up figure space:\r\n",
        "    fig, (ax1, ax2) = plt.subplots(nrows=1, ncols=2, figsize=(12,4), dpi=90)\r\n",
        "    sn.set(palette='bright')\r\n",
        "    \r\n",
        "    # Set the font options for the x/y axes labels:\r\n",
        "    #font.set_style('italic')\r\n",
        "    \r\n",
        "    # Plot distribution of the variable without showing charge off rate\r\n",
        "    if continuous:\r\n",
        "        # Show a histogram to visualise variable\r\n",
        "        sn.histplot(df.loc[df[col_name].notnull(), col_name], kde=False, ax=ax1, bins=30)\r\n",
        "    else:\r\n",
        "        x_labels = df[col_name].sort_values().unique()\r\n",
        "        sn.countplot(x=df[col_name], order=sorted(df[col_name].unique()), ax=ax1).set_xticklabels(x_labels, rotation=rotation, horizontalalignment=alignment)\r\n",
        "    \r\n",
        "    # Formatting the x labels\r\n",
        "    ax1.set_xlabel(full_name)\r\n",
        "    \r\n",
        "    # Formatting the y labels\r\n",
        "    y_labels_1 = ['{:,.0f}'.format(x) + 'K' for x in ax1.get_yticks()/1000]\r\n",
        "    ax1.yaxis.set_major_locator(mticker.FixedLocator(ax1.get_yticks().tolist()))\r\n",
        "    ax1.set_yticklabels(y_labels_1)\r\n",
        "    ax1.set_ylabel('Count')\r\n",
        "    # Formatting the title\r\n",
        "    ax1.set_title(full_name+\"\\n\", fontweight='bold')\r\n",
        "\r\n",
        "    # Plot distribution of variable split by loan status \r\n",
        "    if continuous:\r\n",
        "        sn.boxplot(x=col_name, y='loan_status', data=df, ax=ax2)\r\n",
        "        ax2.set_ylabel('Loan status')\r\n",
        "        ax2.set_title(full_name + ' by loan status'+\"\\n\", fontweight='bold')\r\n",
        "    else:\r\n",
        "        charge_off_rates = df.groupby(col_name)['loan_status'].value_counts(normalize=True).loc[:,'Charged Off']\r\n",
        "        sn.barplot(x=charge_off_rates.index, y=charge_off_rates.values, ax=ax2)\r\n",
        "        \r\n",
        "        # Formatting the x-axis\r\n",
        "        ax2.set_xticklabels(charge_off_rates.index,rotation=rotation, horizontalalignment=alignment)\r\n",
        "        \r\n",
        "        # Formatting the y-axis\r\n",
        "        y_labels_2 = ['{:,.0f}'.format(x) + '%' for x in ax2.get_yticks()*100]\r\n",
        "        ax2.yaxis.set_major_locator(mticker.FixedLocator(ax2.get_yticks().tolist()))\r\n",
        "        ax2.set_yticklabels(y_labels_2)\r\n",
        "        ax2.set_ylabel('Proportion of loans charged off')\r\n",
        "\r\n",
        "        # Formatting the title \r\n",
        "        ax2.set_title('Charge off rate by ' + full_name+\"\\n\", fontweight='bold')\r\n",
        "    \r\n",
        "    ax2.set_xlabel(full_name)\r\n",
        "    \r\n",
        "    plt.tight_layout()"
      ],
      "execution_count": null,
      "outputs": []
    },
    {
      "cell_type": "code",
      "metadata": {
        "colab": {
          "base_uri": "https://localhost:8080/",
          "height": 362
        },
        "id": "g5iKcvomFSeY",
        "outputId": "37e0bbd3-fe48-48d8-d4ba-e18bb2df9c8c"
      },
      "source": [
        "plot_var('loan_amnt', 'Loan amount')"
      ],
      "execution_count": null,
      "outputs": [
        {
          "output_type": "display_data",
          "data": {
            "image/png": "[encoded data removed]",
            "text/plain": [
              "<Figure size 1080x360 with 2 Axes>"
            ]
          },
          "metadata": {
            "tags": [],
            "needs_background": "light"
          }
        }
      ]
    },
    {
      "cell_type": "code",
      "metadata": {
        "colab": {
          "base_uri": "https://localhost:8080/",
          "height": 362
        },
        "id": "H4WyrYfpFcyr",
        "outputId": "32af1831-463c-42a6-b858-e027a06bd044"
      },
      "source": [
        "data['term'] = data.term.map({' 36 months': 36, ' 60 months': 60})\r\n",
        "plot_var('term', 'Term', continuous=False)"
      ],
      "execution_count": null,
      "outputs": [
        {
          "output_type": "display_data",
          "data": {
            "image/png": "[encoded data removed]",
            "text/plain": [
              "<Figure size 1080x360 with 2 Axes>"
            ]
          },
          "metadata": {
            "tags": []
          }
        }
      ]
    },
    {
      "cell_type": "markdown",
      "metadata": {
        "id": "BXbzOVPRFlgn"
      },
      "source": [
        "**categorical Attributes**"
      ]
    },
    {
      "cell_type": "code",
      "metadata": {
        "colab": {
          "base_uri": "https://localhost:8080/",
          "height": 576
        },
        "id": "WOtlWOdUFfnu",
        "outputId": "edfb2acb-ae86-447a-9100-6ffebd31ae90"
      },
      "source": [
        "with pd.option_context('display.max_rows',None):\r\n",
        "    display(data.describe(include=np.object).transpose())"
      ],
      "execution_count": null,
      "outputs": [
        {
          "output_type": "display_data",
          "data": {
            "text/html": [
              "<div>\n",
              "<style scoped>\n",
              "    .dataframe tbody tr th:only-of-type {\n",
              "        vertical-align: middle;\n",
              "    }\n",
              "\n",
              "    .dataframe tbody tr th {\n",
              "        vertical-align: top;\n",
              "    }\n",
              "\n",
              "    .dataframe thead th {\n",
              "        text-align: right;\n",
              "    }\n",
              "</style>\n",
              "<table border=\"1\" class=\"dataframe\">\n",
              "  <thead>\n",
              "    <tr style=\"text-align: right;\">\n",
              "      <th></th>\n",
              "      <th>count</th>\n",
              "      <th>unique</th>\n",
              "      <th>top</th>\n",
              "      <th>freq</th>\n",
              "    </tr>\n",
              "  </thead>\n",
              "  <tbody>\n",
              "    <tr>\n",
              "      <th>id</th>\n",
              "      <td>1345310</td>\n",
              "      <td>1345310</td>\n",
              "      <td>83886078</td>\n",
              "      <td>1</td>\n",
              "    </tr>\n",
              "    <tr>\n",
              "      <th>grade</th>\n",
              "      <td>1345310</td>\n",
              "      <td>7</td>\n",
              "      <td>B</td>\n",
              "      <td>392741</td>\n",
              "    </tr>\n",
              "    <tr>\n",
              "      <th>sub_grade</th>\n",
              "      <td>1345310</td>\n",
              "      <td>35</td>\n",
              "      <td>C1</td>\n",
              "      <td>85494</td>\n",
              "    </tr>\n",
              "    <tr>\n",
              "      <th>emp_title</th>\n",
              "      <td>1259525</td>\n",
              "      <td>378353</td>\n",
              "      <td>Teacher</td>\n",
              "      <td>21268</td>\n",
              "    </tr>\n",
              "    <tr>\n",
              "      <th>emp_length</th>\n",
              "      <td>1266799</td>\n",
              "      <td>11</td>\n",
              "      <td>10+ years</td>\n",
              "      <td>442199</td>\n",
              "    </tr>\n",
              "    <tr>\n",
              "      <th>home_ownership</th>\n",
              "      <td>1345310</td>\n",
              "      <td>6</td>\n",
              "      <td>MORTGAGE</td>\n",
              "      <td>665579</td>\n",
              "    </tr>\n",
              "    <tr>\n",
              "      <th>verification_status</th>\n",
              "      <td>1345310</td>\n",
              "      <td>3</td>\n",
              "      <td>Source Verified</td>\n",
              "      <td>521273</td>\n",
              "    </tr>\n",
              "    <tr>\n",
              "      <th>issue_d</th>\n",
              "      <td>1345310</td>\n",
              "      <td>139</td>\n",
              "      <td>Mar-2016</td>\n",
              "      <td>48937</td>\n",
              "    </tr>\n",
              "    <tr>\n",
              "      <th>loan_status</th>\n",
              "      <td>1345310</td>\n",
              "      <td>2</td>\n",
              "      <td>Fully Paid</td>\n",
              "      <td>1076751</td>\n",
              "    </tr>\n",
              "    <tr>\n",
              "      <th>pymnt_plan</th>\n",
              "      <td>1345310</td>\n",
              "      <td>1</td>\n",
              "      <td>n</td>\n",
              "      <td>1345310</td>\n",
              "    </tr>\n",
              "    <tr>\n",
              "      <th>url</th>\n",
              "      <td>1345310</td>\n",
              "      <td>1345310</td>\n",
              "      <td>https://lendingclub.com/browse/loanDetail.acti...</td>\n",
              "      <td>1</td>\n",
              "    </tr>\n",
              "    <tr>\n",
              "      <th>purpose</th>\n",
              "      <td>1345310</td>\n",
              "      <td>14</td>\n",
              "      <td>debt_consolidation</td>\n",
              "      <td>780321</td>\n",
              "    </tr>\n",
              "    <tr>\n",
              "      <th>zip_code</th>\n",
              "      <td>1345309</td>\n",
              "      <td>943</td>\n",
              "      <td>945xx</td>\n",
              "      <td>15005</td>\n",
              "    </tr>\n",
              "    <tr>\n",
              "      <th>addr_state</th>\n",
              "      <td>1345310</td>\n",
              "      <td>51</td>\n",
              "      <td>CA</td>\n",
              "      <td>196528</td>\n",
              "    </tr>\n",
              "    <tr>\n",
              "      <th>last_pymnt_d</th>\n",
              "      <td>1342997</td>\n",
              "      <td>135</td>\n",
              "      <td>Aug-2018</td>\n",
              "      <td>39615</td>\n",
              "    </tr>\n",
              "    <tr>\n",
              "      <th>last_credit_pull_d</th>\n",
              "      <td>1345255</td>\n",
              "      <td>140</td>\n",
              "      <td>Mar-2019</td>\n",
              "      <td>470827</td>\n",
              "    </tr>\n",
              "    <tr>\n",
              "      <th>hardship_flag</th>\n",
              "      <td>1345310</td>\n",
              "      <td>1</td>\n",
              "      <td>N</td>\n",
              "      <td>1345310</td>\n",
              "    </tr>\n",
              "  </tbody>\n",
              "</table>\n",
              "</div>"
            ],
            "text/plain": [
              "                       count  ...     freq\n",
              "id                   1345310  ...        1\n",
              "grade                1345310  ...   392741\n",
              "sub_grade            1345310  ...    85494\n",
              "emp_title            1259525  ...    21268\n",
              "emp_length           1266799  ...   442199\n",
              "home_ownership       1345310  ...   665579\n",
              "verification_status  1345310  ...   521273\n",
              "issue_d              1345310  ...    48937\n",
              "loan_status          1345310  ...  1076751\n",
              "pymnt_plan           1345310  ...  1345310\n",
              "url                  1345310  ...        1\n",
              "purpose              1345310  ...   780321\n",
              "zip_code             1345309  ...    15005\n",
              "addr_state           1345310  ...   196528\n",
              "last_pymnt_d         1342997  ...    39615\n",
              "last_credit_pull_d   1345255  ...   470827\n",
              "hardship_flag        1345310  ...  1345310\n",
              "\n",
              "[17 rows x 4 columns]"
            ]
          },
          "metadata": {
            "tags": []
          }
        }
      ]
    },
    {
      "cell_type": "markdown",
      "metadata": {
        "id": "tZeSLumqFz5g"
      },
      "source": [
        "**Numerical Attributes**"
      ]
    },
    {
      "cell_type": "code",
      "metadata": {
        "id": "8G6_zURXFuOd"
      },
      "source": [
        "date_fields = ['issue_d', 'last_pymnt_d','last_credit_pull_d']\r\n",
        "for col in date_fields:  \r\n",
        "    data[col] = pd.to_datetime(data[col]) \r\n",
        "    data[col + '_month'] = data[col].dt.month\r\n",
        "    data[col + '_year'] = data[col].dt.year\r\n",
        "data = data.drop(date_fields, axis=1)"
      ],
      "execution_count": null,
      "outputs": []
    },
    {
      "cell_type": "code",
      "metadata": {
        "id": "Qe_aD4FHGErL"
      },
      "source": [
        "rejected_filepath=\"/content/drive/MyDrive/rejected_2007_to_2018Q4.csv.gz\""
      ],
      "execution_count": 8,
      "outputs": []
    },
    {
      "cell_type": "code",
      "metadata": {
        "colab": {
          "base_uri": "https://localhost:8080/"
        },
        "id": "sLTFoIUvKKom",
        "outputId": "5e54e62a-9622-4321-95fc-53636bf4e12d"
      },
      "source": [
        "from google.colab import drive\n",
        "drive.mount('/content/drive')"
      ],
      "execution_count": 7,
      "outputs": [
        {
          "output_type": "stream",
          "text": [
            "Mounted at /content/drive\n"
          ],
          "name": "stdout"
        }
      ]
    },
    {
      "cell_type": "code",
      "metadata": {
        "id": "4UKBFPPJGlxV"
      },
      "source": [
        "data_reject=pd.read_csv(rejected_filepath)"
      ],
      "execution_count": 9,
      "outputs": []
    },
    {
      "cell_type": "code",
      "metadata": {
        "colab": {
          "base_uri": "https://localhost:8080/"
        },
        "id": "qdfu-YdBG1Tr",
        "outputId": "f4f1a200-3734-4d3d-c27d-2486c1afb4f3"
      },
      "source": [
        "data_reject.shape"
      ],
      "execution_count": null,
      "outputs": [
        {
          "output_type": "execute_result",
          "data": {
            "text/plain": [
              "(27648741, 9)"
            ]
          },
          "metadata": {
            "tags": []
          },
          "execution_count": 11
        }
      ]
    },
    {
      "cell_type": "code",
      "metadata": {
        "colab": {
          "base_uri": "https://localhost:8080/",
          "height": 238
        },
        "id": "lhUdzJP4HO3F",
        "outputId": "9f00b1ab-d071-4676-ce6b-99e47687f66c"
      },
      "source": [
        "data_reject.head()"
      ],
      "execution_count": null,
      "outputs": [
        {
          "output_type": "execute_result",
          "data": {
            "text/html": [
              "<div>\n",
              "<style scoped>\n",
              "    .dataframe tbody tr th:only-of-type {\n",
              "        vertical-align: middle;\n",
              "    }\n",
              "\n",
              "    .dataframe tbody tr th {\n",
              "        vertical-align: top;\n",
              "    }\n",
              "\n",
              "    .dataframe thead th {\n",
              "        text-align: right;\n",
              "    }\n",
              "</style>\n",
              "<table border=\"1\" class=\"dataframe\">\n",
              "  <thead>\n",
              "    <tr style=\"text-align: right;\">\n",
              "      <th></th>\n",
              "      <th>Amount Requested</th>\n",
              "      <th>Application Date</th>\n",
              "      <th>Loan Title</th>\n",
              "      <th>Risk_Score</th>\n",
              "      <th>Debt-To-Income Ratio</th>\n",
              "      <th>Zip Code</th>\n",
              "      <th>State</th>\n",
              "      <th>Employment Length</th>\n",
              "      <th>Policy Code</th>\n",
              "    </tr>\n",
              "  </thead>\n",
              "  <tbody>\n",
              "    <tr>\n",
              "      <th>0</th>\n",
              "      <td>1000.0</td>\n",
              "      <td>2007-05-26</td>\n",
              "      <td>Wedding Covered but No Honeymoon</td>\n",
              "      <td>693.0</td>\n",
              "      <td>10%</td>\n",
              "      <td>481xx</td>\n",
              "      <td>NM</td>\n",
              "      <td>4 years</td>\n",
              "      <td>0.0</td>\n",
              "    </tr>\n",
              "    <tr>\n",
              "      <th>1</th>\n",
              "      <td>1000.0</td>\n",
              "      <td>2007-05-26</td>\n",
              "      <td>Consolidating Debt</td>\n",
              "      <td>703.0</td>\n",
              "      <td>10%</td>\n",
              "      <td>010xx</td>\n",
              "      <td>MA</td>\n",
              "      <td>&lt; 1 year</td>\n",
              "      <td>0.0</td>\n",
              "    </tr>\n",
              "    <tr>\n",
              "      <th>2</th>\n",
              "      <td>11000.0</td>\n",
              "      <td>2007-05-27</td>\n",
              "      <td>Want to consolidate my debt</td>\n",
              "      <td>715.0</td>\n",
              "      <td>10%</td>\n",
              "      <td>212xx</td>\n",
              "      <td>MD</td>\n",
              "      <td>1 year</td>\n",
              "      <td>0.0</td>\n",
              "    </tr>\n",
              "    <tr>\n",
              "      <th>3</th>\n",
              "      <td>6000.0</td>\n",
              "      <td>2007-05-27</td>\n",
              "      <td>waksman</td>\n",
              "      <td>698.0</td>\n",
              "      <td>38.64%</td>\n",
              "      <td>017xx</td>\n",
              "      <td>MA</td>\n",
              "      <td>&lt; 1 year</td>\n",
              "      <td>0.0</td>\n",
              "    </tr>\n",
              "    <tr>\n",
              "      <th>4</th>\n",
              "      <td>1500.0</td>\n",
              "      <td>2007-05-27</td>\n",
              "      <td>mdrigo</td>\n",
              "      <td>509.0</td>\n",
              "      <td>9.43%</td>\n",
              "      <td>209xx</td>\n",
              "      <td>MD</td>\n",
              "      <td>&lt; 1 year</td>\n",
              "      <td>0.0</td>\n",
              "    </tr>\n",
              "  </tbody>\n",
              "</table>\n",
              "</div>"
            ],
            "text/plain": [
              "   Amount Requested Application Date  ... Employment Length  Policy Code\n",
              "0            1000.0       2007-05-26  ...           4 years          0.0\n",
              "1            1000.0       2007-05-26  ...          < 1 year          0.0\n",
              "2           11000.0       2007-05-27  ...            1 year          0.0\n",
              "3            6000.0       2007-05-27  ...          < 1 year          0.0\n",
              "4            1500.0       2007-05-27  ...          < 1 year          0.0\n",
              "\n",
              "[5 rows x 9 columns]"
            ]
          },
          "metadata": {
            "tags": []
          },
          "execution_count": 12
        }
      ]
    },
    {
      "cell_type": "code",
      "metadata": {
        "colab": {
          "base_uri": "https://localhost:8080/",
          "height": 204
        },
        "id": "aYVSn8FKHSDR",
        "outputId": "958b06f1-73fa-48b8-d9d8-e765793083dc"
      },
      "source": [
        "data_reject.tail()"
      ],
      "execution_count": null,
      "outputs": [
        {
          "output_type": "execute_result",
          "data": {
            "text/html": [
              "<div>\n",
              "<style scoped>\n",
              "    .dataframe tbody tr th:only-of-type {\n",
              "        vertical-align: middle;\n",
              "    }\n",
              "\n",
              "    .dataframe tbody tr th {\n",
              "        vertical-align: top;\n",
              "    }\n",
              "\n",
              "    .dataframe thead th {\n",
              "        text-align: right;\n",
              "    }\n",
              "</style>\n",
              "<table border=\"1\" class=\"dataframe\">\n",
              "  <thead>\n",
              "    <tr style=\"text-align: right;\">\n",
              "      <th></th>\n",
              "      <th>Amount Requested</th>\n",
              "      <th>Application Date</th>\n",
              "      <th>Loan Title</th>\n",
              "      <th>Risk_Score</th>\n",
              "      <th>Debt-To-Income Ratio</th>\n",
              "      <th>Zip Code</th>\n",
              "      <th>State</th>\n",
              "      <th>Employment Length</th>\n",
              "      <th>Policy Code</th>\n",
              "    </tr>\n",
              "  </thead>\n",
              "  <tbody>\n",
              "    <tr>\n",
              "      <th>27648736</th>\n",
              "      <td>10000.0</td>\n",
              "      <td>2016-12-31</td>\n",
              "      <td>Debt consolidation</td>\n",
              "      <td>590.0</td>\n",
              "      <td>41.26%</td>\n",
              "      <td>441xx</td>\n",
              "      <td>OH</td>\n",
              "      <td>&lt; 1 year</td>\n",
              "      <td>0.0</td>\n",
              "    </tr>\n",
              "    <tr>\n",
              "      <th>27648737</th>\n",
              "      <td>10000.0</td>\n",
              "      <td>2016-12-31</td>\n",
              "      <td>moving</td>\n",
              "      <td>NaN</td>\n",
              "      <td>1.48%</td>\n",
              "      <td>207xx</td>\n",
              "      <td>MD</td>\n",
              "      <td>5 years</td>\n",
              "      <td>0.0</td>\n",
              "    </tr>\n",
              "    <tr>\n",
              "      <th>27648738</th>\n",
              "      <td>1200.0</td>\n",
              "      <td>2016-12-31</td>\n",
              "      <td>Other</td>\n",
              "      <td>686.0</td>\n",
              "      <td>10.26%</td>\n",
              "      <td>914xx</td>\n",
              "      <td>CA</td>\n",
              "      <td>&lt; 1 year</td>\n",
              "      <td>0.0</td>\n",
              "    </tr>\n",
              "    <tr>\n",
              "      <th>27648739</th>\n",
              "      <td>25000.0</td>\n",
              "      <td>2016-12-31</td>\n",
              "      <td>debt_consolidation</td>\n",
              "      <td>NaN</td>\n",
              "      <td>17.71%</td>\n",
              "      <td>880xx</td>\n",
              "      <td>NM</td>\n",
              "      <td>&lt; 1 year</td>\n",
              "      <td>0.0</td>\n",
              "    </tr>\n",
              "    <tr>\n",
              "      <th>27648740</th>\n",
              "      <td>15000.0</td>\n",
              "      <td>2016-12-31</td>\n",
              "      <td>Business</td>\n",
              "      <td>684.0</td>\n",
              "      <td>10.58%</td>\n",
              "      <td>113xx</td>\n",
              "      <td>NY</td>\n",
              "      <td>&lt; 1 year</td>\n",
              "      <td>0.0</td>\n",
              "    </tr>\n",
              "  </tbody>\n",
              "</table>\n",
              "</div>"
            ],
            "text/plain": [
              "          Amount Requested Application Date  ... Employment Length  Policy Code\n",
              "27648736           10000.0       2016-12-31  ...          < 1 year          0.0\n",
              "27648737           10000.0       2016-12-31  ...           5 years          0.0\n",
              "27648738            1200.0       2016-12-31  ...          < 1 year          0.0\n",
              "27648739           25000.0       2016-12-31  ...          < 1 year          0.0\n",
              "27648740           15000.0       2016-12-31  ...          < 1 year          0.0\n",
              "\n",
              "[5 rows x 9 columns]"
            ]
          },
          "metadata": {
            "tags": []
          },
          "execution_count": 13
        }
      ]
    },
    {
      "cell_type": "code",
      "metadata": {
        "colab": {
          "base_uri": "https://localhost:8080/"
        },
        "id": "5w3EbF4AHZgy",
        "outputId": "f72b93c0-a810-40ec-8e93-0bf3857735e7"
      },
      "source": [
        "data_reject.isnull().sum()"
      ],
      "execution_count": null,
      "outputs": [
        {
          "output_type": "execute_result",
          "data": {
            "text/plain": [
              "Amount Requested               0\n",
              "Application Date               0\n",
              "Loan Title                  1303\n",
              "Risk_Score              18497630\n",
              "Debt-To-Income Ratio           0\n",
              "Zip Code                     293\n",
              "State                         22\n",
              "Employment Length         951355\n",
              "Policy Code                  918\n",
              "dtype: int64"
            ]
          },
          "metadata": {
            "tags": []
          },
          "execution_count": 14
        }
      ]
    },
    {
      "cell_type": "code",
      "metadata": {
        "colab": {
          "base_uri": "https://localhost:8080/"
        },
        "id": "VvyKFv9ZHcMZ",
        "outputId": "624337d5-7f00-4498-eaba-4d0268b39753"
      },
      "source": [
        "data_reject.columns"
      ],
      "execution_count": null,
      "outputs": [
        {
          "output_type": "execute_result",
          "data": {
            "text/plain": [
              "Index(['Amount Requested', 'Application Date', 'Loan Title', 'Risk_Score',\n",
              "       'Debt-To-Income Ratio', 'Zip Code', 'State', 'Employment Length',\n",
              "       'Policy Code'],\n",
              "      dtype='object')"
            ]
          },
          "metadata": {
            "tags": []
          },
          "execution_count": 15
        }
      ]
    },
    {
      "cell_type": "code",
      "metadata": {
        "colab": {
          "base_uri": "https://localhost:8080/"
        },
        "id": "8SKYOGu_Hhxq",
        "outputId": "52585034-79a9-4ff4-c387-4e555e14c748"
      },
      "source": [
        "\r\n",
        "data_reject.info(verbose=True, null_counts=True)"
      ],
      "execution_count": null,
      "outputs": [
        {
          "output_type": "stream",
          "text": [
            "<class 'pandas.core.frame.DataFrame'>\n",
            "RangeIndex: 27648741 entries, 0 to 27648740\n",
            "Data columns (total 9 columns):\n",
            " #   Column                Non-Null Count     Dtype  \n",
            "---  ------                --------------     -----  \n",
            " 0   Amount Requested      27648741 non-null  float64\n",
            " 1   Application Date      27648741 non-null  object \n",
            " 2   Loan Title            27647438 non-null  object \n",
            " 3   Risk_Score            9151111 non-null   float64\n",
            " 4   Debt-To-Income Ratio  27648741 non-null  object \n",
            " 5   Zip Code              27648448 non-null  object \n",
            " 6   State                 27648719 non-null  object \n",
            " 7   Employment Length     26697386 non-null  object \n",
            " 8   Policy Code           27647823 non-null  float64\n",
            "dtypes: float64(3), object(6)\n",
            "memory usage: 1.9+ GB\n"
          ],
          "name": "stdout"
        }
      ]
    },
    {
      "cell_type": "code",
      "metadata": {
        "colab": {
          "base_uri": "https://localhost:8080/",
          "height": 142
        },
        "id": "Dip1kY2uHj0O",
        "outputId": "91cbd674-9d6b-4dc7-ed6c-3b936b0d996d"
      },
      "source": [
        "data_reject.describe().T"
      ],
      "execution_count": null,
      "outputs": [
        {
          "output_type": "execute_result",
          "data": {
            "text/html": [
              "<div>\n",
              "<style scoped>\n",
              "    .dataframe tbody tr th:only-of-type {\n",
              "        vertical-align: middle;\n",
              "    }\n",
              "\n",
              "    .dataframe tbody tr th {\n",
              "        vertical-align: top;\n",
              "    }\n",
              "\n",
              "    .dataframe thead th {\n",
              "        text-align: right;\n",
              "    }\n",
              "</style>\n",
              "<table border=\"1\" class=\"dataframe\">\n",
              "  <thead>\n",
              "    <tr style=\"text-align: right;\">\n",
              "      <th></th>\n",
              "      <th>count</th>\n",
              "      <th>mean</th>\n",
              "      <th>std</th>\n",
              "      <th>min</th>\n",
              "      <th>25%</th>\n",
              "      <th>50%</th>\n",
              "      <th>75%</th>\n",
              "      <th>max</th>\n",
              "    </tr>\n",
              "  </thead>\n",
              "  <tbody>\n",
              "    <tr>\n",
              "      <th>Amount Requested</th>\n",
              "      <td>27648741.0</td>\n",
              "      <td>13133.240309</td>\n",
              "      <td>15009.636325</td>\n",
              "      <td>0.0</td>\n",
              "      <td>4800.0</td>\n",
              "      <td>10000.0</td>\n",
              "      <td>20000.0</td>\n",
              "      <td>1400000.0</td>\n",
              "    </tr>\n",
              "    <tr>\n",
              "      <th>Risk_Score</th>\n",
              "      <td>9151111.0</td>\n",
              "      <td>628.172090</td>\n",
              "      <td>89.936793</td>\n",
              "      <td>0.0</td>\n",
              "      <td>591.0</td>\n",
              "      <td>637.0</td>\n",
              "      <td>675.0</td>\n",
              "      <td>990.0</td>\n",
              "    </tr>\n",
              "    <tr>\n",
              "      <th>Policy Code</th>\n",
              "      <td>27647823.0</td>\n",
              "      <td>0.006375</td>\n",
              "      <td>0.112737</td>\n",
              "      <td>0.0</td>\n",
              "      <td>0.0</td>\n",
              "      <td>0.0</td>\n",
              "      <td>0.0</td>\n",
              "      <td>2.0</td>\n",
              "    </tr>\n",
              "  </tbody>\n",
              "</table>\n",
              "</div>"
            ],
            "text/plain": [
              "                       count          mean  ...      75%        max\n",
              "Amount Requested  27648741.0  13133.240309  ...  20000.0  1400000.0\n",
              "Risk_Score         9151111.0    628.172090  ...    675.0      990.0\n",
              "Policy Code       27647823.0      0.006375  ...      0.0        2.0\n",
              "\n",
              "[3 rows x 8 columns]"
            ]
          },
          "metadata": {
            "tags": []
          },
          "execution_count": 17
        }
      ]
    },
    {
      "cell_type": "code",
      "metadata": {
        "colab": {
          "base_uri": "https://localhost:8080/",
          "height": 204
        },
        "id": "SNGchrhuHpXW",
        "outputId": "6b6d0f23-a219-4db3-fbd0-92639940ba48"
      },
      "source": [
        "bool_series = pd.isnull(data_reject[\"Risk_Score\"])\r\n",
        "data_reject[bool_series] .head()"
      ],
      "execution_count": null,
      "outputs": [
        {
          "output_type": "execute_result",
          "data": {
            "text/html": [
              "<div>\n",
              "<style scoped>\n",
              "    .dataframe tbody tr th:only-of-type {\n",
              "        vertical-align: middle;\n",
              "    }\n",
              "\n",
              "    .dataframe tbody tr th {\n",
              "        vertical-align: top;\n",
              "    }\n",
              "\n",
              "    .dataframe thead th {\n",
              "        text-align: right;\n",
              "    }\n",
              "</style>\n",
              "<table border=\"1\" class=\"dataframe\">\n",
              "  <thead>\n",
              "    <tr style=\"text-align: right;\">\n",
              "      <th></th>\n",
              "      <th>Amount Requested</th>\n",
              "      <th>Application Date</th>\n",
              "      <th>Loan Title</th>\n",
              "      <th>Risk_Score</th>\n",
              "      <th>Debt-To-Income Ratio</th>\n",
              "      <th>Zip Code</th>\n",
              "      <th>State</th>\n",
              "      <th>Employment Length</th>\n",
              "      <th>Policy Code</th>\n",
              "    </tr>\n",
              "  </thead>\n",
              "  <tbody>\n",
              "    <tr>\n",
              "      <th>132</th>\n",
              "      <td>3000.0</td>\n",
              "      <td>2007-06-09</td>\n",
              "      <td>lmhsfan</td>\n",
              "      <td>NaN</td>\n",
              "      <td>9.26%</td>\n",
              "      <td>805xx</td>\n",
              "      <td>CO</td>\n",
              "      <td>&lt; 1 year</td>\n",
              "      <td>0.0</td>\n",
              "    </tr>\n",
              "    <tr>\n",
              "      <th>160</th>\n",
              "      <td>12000.0</td>\n",
              "      <td>2007-06-12</td>\n",
              "      <td>Tony_Texan</td>\n",
              "      <td>NaN</td>\n",
              "      <td>100%</td>\n",
              "      <td>802xx</td>\n",
              "      <td>CO</td>\n",
              "      <td>&lt; 1 year</td>\n",
              "      <td>0.0</td>\n",
              "    </tr>\n",
              "    <tr>\n",
              "      <th>205</th>\n",
              "      <td>4000.0</td>\n",
              "      <td>2007-06-19</td>\n",
              "      <td>ThePegLeg</td>\n",
              "      <td>NaN</td>\n",
              "      <td>100%</td>\n",
              "      <td>796xx</td>\n",
              "      <td>TX</td>\n",
              "      <td>&lt; 1 year</td>\n",
              "      <td>0.0</td>\n",
              "    </tr>\n",
              "    <tr>\n",
              "      <th>310</th>\n",
              "      <td>1000.0</td>\n",
              "      <td>2007-06-27</td>\n",
              "      <td>Help rebuild Galveston</td>\n",
              "      <td>NaN</td>\n",
              "      <td>100%</td>\n",
              "      <td>701xx</td>\n",
              "      <td>TX</td>\n",
              "      <td>10+ years</td>\n",
              "      <td>0.0</td>\n",
              "    </tr>\n",
              "    <tr>\n",
              "      <th>543</th>\n",
              "      <td>7500.0</td>\n",
              "      <td>2007-07-23</td>\n",
              "      <td>Sm-biz owner seeks loan</td>\n",
              "      <td>NaN</td>\n",
              "      <td>100%</td>\n",
              "      <td>891xx</td>\n",
              "      <td>NV</td>\n",
              "      <td>3 years</td>\n",
              "      <td>0.0</td>\n",
              "    </tr>\n",
              "  </tbody>\n",
              "</table>\n",
              "</div>"
            ],
            "text/plain": [
              "     Amount Requested Application Date  ... Employment Length  Policy Code\n",
              "132            3000.0       2007-06-09  ...          < 1 year          0.0\n",
              "160           12000.0       2007-06-12  ...          < 1 year          0.0\n",
              "205            4000.0       2007-06-19  ...          < 1 year          0.0\n",
              "310            1000.0       2007-06-27  ...         10+ years          0.0\n",
              "543            7500.0       2007-07-23  ...           3 years          0.0\n",
              "\n",
              "[5 rows x 9 columns]"
            ]
          },
          "metadata": {
            "tags": []
          },
          "execution_count": 18
        }
      ]
    },
    {
      "cell_type": "code",
      "metadata": {
        "colab": {
          "base_uri": "https://localhost:8080/"
        },
        "id": "hPIq9oHyHwcG",
        "outputId": "847badc8-f74a-4ad7-96ca-e930e6918adf"
      },
      "source": [
        "new_data1 = data_reject.dropna(axis = 0, how ='any')  \r\n",
        "new_data1.shape"
      ],
      "execution_count": null,
      "outputs": [
        {
          "output_type": "execute_result",
          "data": {
            "text/plain": [
              "(8992195, 9)"
            ]
          },
          "metadata": {
            "tags": []
          },
          "execution_count": 19
        }
      ]
    },
    {
      "cell_type": "code",
      "metadata": {
        "colab": {
          "base_uri": "https://localhost:8080/"
        },
        "id": "m9CPHYBIK5QN",
        "outputId": "cbcb609d-38a6-4b80-9f36-03cd80544b48"
      },
      "source": [
        "print(\"Old data frame length:\", len(data_reject)) \r\n",
        "print(\"New data frame length:\", len(new_data1))  \r\n",
        "print(\"Number of rows with at least 1 NA value: \", (len(data_reject)-len(new_data1)))"
      ],
      "execution_count": null,
      "outputs": [
        {
          "output_type": "stream",
          "text": [
            "Old data frame length: 27648741\n",
            "New data frame length: 8992195\n",
            "Number of rows with at least 1 NA value:  18656546\n"
          ],
          "name": "stdout"
        }
      ]
    },
    {
      "cell_type": "code",
      "metadata": {
        "colab": {
          "base_uri": "https://localhost:8080/"
        },
        "id": "e2_A6FPPK_Lb",
        "outputId": "8ed2c8a2-0591-46fc-8e1f-78c3238269e2"
      },
      "source": [
        "\r\n",
        "new_data1.isnull().sum()"
      ],
      "execution_count": null,
      "outputs": [
        {
          "output_type": "execute_result",
          "data": {
            "text/plain": [
              "Amount Requested        0\n",
              "Application Date        0\n",
              "Loan Title              0\n",
              "Risk_Score              0\n",
              "Debt-To-Income Ratio    0\n",
              "Zip Code                0\n",
              "State                   0\n",
              "Employment Length       0\n",
              "Policy Code             0\n",
              "dtype: int64"
            ]
          },
          "metadata": {
            "tags": []
          },
          "execution_count": 21
        }
      ]
    },
    {
      "cell_type": "code",
      "metadata": {
        "id": "GG6O32J2LBco"
      },
      "source": [
        "def removeNulls(dataframe, axis =1, percent=0.3):\r\n",
        "    '''\r\n",
        "    \r\n",
        "    '''\r\n",
        "    df = dataframe.copy()\r\n",
        "    ishape = df.shape\r\n",
        "    if axis == 0:\r\n",
        "        rownames = df.transpose().isnull().sum()\r\n",
        "        rownames = list(rownames[rownames.values > percent*len(df)].index)\r\n",
        "        df.drop(df.index[rownames],inplace=True) \r\n",
        "        print(\"\\nNumber of Rows dropped\\t: \",len(rownames))\r\n",
        "    else:\r\n",
        "        colnames = (df.isnull().sum()/len(df))\r\n",
        "        colnames = list(colnames[colnames.values>=percent].index)\r\n",
        "        df.drop(labels = colnames,axis =1,inplace=True)        \r\n",
        "        print(\"Number of Columns dropped\\t: \",len(colnames))\r\n",
        "         \r\n",
        "    print(\"\\nOld dataset rows,columns\",ishape,\"\\nNew dataset rows,columns\",df.shape)\r\n",
        "\r\n",
        "    return df"
      ],
      "execution_count": null,
      "outputs": []
    },
    {
      "cell_type": "code",
      "metadata": {
        "colab": {
          "base_uri": "https://localhost:8080/"
        },
        "id": "wwlXWBLPLOgq",
        "outputId": "76351ebb-e8ff-45b6-edc7-731a669c702e"
      },
      "source": [
        "data_reject = removeNulls(data_reject, axis =1,percent = 0.3)"
      ],
      "execution_count": null,
      "outputs": [
        {
          "output_type": "stream",
          "text": [
            "Number of Columns dropped\t:  1\n",
            "\n",
            "Old dataset rows,columns (27648741, 9) \n",
            "New dataset rows,columns (27648741, 8)\n"
          ],
          "name": "stdout"
        }
      ]
    },
    {
      "cell_type": "markdown",
      "metadata": {
        "id": "Oet2c5DEUjWG"
      },
      "source": [
        "**CORRELATION OF ATTRIBUTES**"
      ]
    },
    {
      "cell_type": "code",
      "metadata": {
        "id": "gn3R8XYoLV-c",
        "colab": {
          "base_uri": "https://localhost:8080/",
          "height": 287
        },
        "outputId": "9148f674-2570-4c5b-fc4d-2cc46ff1fa78"
      },
      "source": [
        "corelation=data_reject.corr()\r\n",
        "sns.heatmap(corelation,xticklabels=corelation.columns,yticklabels=corelation.columns,annot=True)"
      ],
      "execution_count": 14,
      "outputs": [
        {
          "output_type": "execute_result",
          "data": {
            "text/plain": [
              "<matplotlib.axes._subplots.AxesSubplot at 0x7fdcf3796e10>"
            ]
          },
          "metadata": {
            "tags": []
          },
          "execution_count": 14
        },
        {
          "output_type": "display_data",
          "data": {
            "image/png": "[encoded data removed]",
            "text/plain": [
              "<Figure size 432x288 with 2 Axes>"
            ]
          },
          "metadata": {
            "tags": [],
            "needs_background": "light"
          }
        }
      ]
    },
    {
      "cell_type": "code",
      "metadata": {
        "colab": {
          "base_uri": "https://localhost:8080/",
          "height": 567
        },
        "id": "CGOY_UFRTtaP",
        "outputId": "10362c52-50c5-4013-caac-8753765e32e5"
      },
      "source": [
        "\r\n",
        "sns.pairplot(Risk_Score)"
      ],
      "execution_count": 15,
      "outputs": [
        {
          "output_type": "execute_result",
          "data": {
            "text/plain": [
              "<seaborn.axisgrid.PairGrid at 0x7fdce59eb410>"
            ]
          },
          "metadata": {
            "tags": []
          },
          "execution_count": 15
        },
        {
          "output_type": "display_data",
          "data": {
            "image/png": "[encoded data removed]",
            "text/plain": [
              "<Figure size 540x540 with 12 Axes>"
            ]
          },
          "metadata": {
            "tags": [],
            "needs_background": "light"
          }
        }
      ]
    },
    {
      "cell_type": "code",
      "metadata": {
        "colab": {
          "base_uri": "https://localhost:8080/",
          "height": 308
        },
        "id": "8ukJxaRuU0om",
        "outputId": "fd356a5c-5929-4149-cfc9-df6f6c5f736a"
      },
      "source": [
        "sns.distplot(a=data_reject['Risk_Score'],kde=False,bins=30)"
      ],
      "execution_count": 23,
      "outputs": [
        {
          "output_type": "execute_result",
          "data": {
            "text/plain": [
              "<matplotlib.axes._subplots.AxesSubplot at 0x7fdcd0110790>"
            ]
          },
          "metadata": {
            "tags": []
          },
          "execution_count": 23
        },
        {
          "output_type": "display_data",
          "data": {
            "image/png": "[encoded data removed]",
            "text/plain": [
              "<Figure size 432x288 with 1 Axes>"
            ]
          },
          "metadata": {
            "tags": [],
            "needs_background": "light"
          }
        }
      ]
    },
    {
      "cell_type": "code",
      "metadata": {
        "colab": {
          "base_uri": "https://localhost:8080/",
          "height": 401
        },
        "id": "TaAvoeKvWshg",
        "outputId": "b2a18e8c-1449-4657-9212-4f221bd1aa47"
      },
      "source": [
        "sns.catplot(x='Risk_Score',kind='box',data=data_reject)"
      ],
      "execution_count": 33,
      "outputs": [
        {
          "output_type": "execute_result",
          "data": {
            "text/plain": [
              "<seaborn.axisgrid.FacetGrid at 0x7fdc2fe28bd0>"
            ]
          },
          "metadata": {
            "tags": []
          },
          "execution_count": 33
        },
        {
          "output_type": "display_data",
          "data": {
            "image/png": "[encoded data removed]",
            "text/plain": [
              "<Figure size 360x360 with 1 Axes>"
            ]
          },
          "metadata": {
            "tags": [],
            "needs_background": "light"
          }
        }
      ]
    },
    {
      "cell_type": "code",
      "metadata": {
        "colab": {
          "base_uri": "https://localhost:8080/",
          "height": 387
        },
        "id": "Vve3XdeQdlzO",
        "outputId": "abfd33b5-6dba-41c2-b694-7f81289416d1"
      },
      "source": [
        "sns.catplot(x='Amount Requested',kind='box',data=data_reject)"
      ],
      "execution_count": 32,
      "outputs": [
        {
          "output_type": "execute_result",
          "data": {
            "text/plain": [
              "<seaborn.axisgrid.FacetGrid at 0x7fdc1bc91150>"
            ]
          },
          "metadata": {
            "tags": []
          },
          "execution_count": 32
        },
        {
          "output_type": "display_data",
          "data": {
            "image/png": "[encoded data removed]",
            "text/plain": [
              "<Figure size 360x360 with 1 Axes>"
            ]
          },
          "metadata": {
            "tags": [],
            "needs_background": "light"
          }
        }
      ]
    },
    {
      "cell_type": "code",
      "metadata": {
        "colab": {
          "base_uri": "https://localhost:8080/",
          "height": 308
        },
        "id": "8p_ohRxTX-MB",
        "outputId": "4c8a3a58-0e19-4e6a-bb38-65812304b680"
      },
      "source": [
        "import matplotlib.pyplot as plt\r\n",
        "sns.scatterplot(x=data_reject['Risk_Score'],y=data_reject['Amount Requested'])"
      ],
      "execution_count": 27,
      "outputs": [
        {
          "output_type": "execute_result",
          "data": {
            "text/plain": [
              "<matplotlib.axes._subplots.AxesSubplot at 0x7fdccb7a62d0>"
            ]
          },
          "metadata": {
            "tags": []
          },
          "execution_count": 27
        },
        {
          "output_type": "display_data",
          "data": {
            "image/png": "[encoded data removed]",
            "text/plain": [
              "<Figure size 432x288 with 1 Axes>"
            ]
          },
          "metadata": {
            "tags": [],
            "needs_background": "light"
          }
        }
      ]
    },
    {
      "cell_type": "code",
      "metadata": {
        "id": "JY_aTL5udU24"
      },
      "source": [
        ""
      ],
      "execution_count": null,
      "outputs": []
    }
  ]
}